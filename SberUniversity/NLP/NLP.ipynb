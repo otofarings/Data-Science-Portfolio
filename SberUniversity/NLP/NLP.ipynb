{
 "cells": [
  {
   "cell_type": "markdown",
   "metadata": {
    "id": "JSlmzb2uQHrX"
   },
   "source": [
    "<h3 style=\"text-align: center;\"><b>Обучаем собственную Seq2seq модель</b></h3>\n",
    "\n",
    "---"
   ]
  },
  {
   "cell_type": "markdown",
   "metadata": {
    "id": "5PEYCjfwQHrc"
   },
   "source": [
    "# Install packages\n",
    "\n",
    "---"
   ]
  },
  {
   "cell_type": "code",
   "execution_count": 1,
   "metadata": {
    "colab": {
     "base_uri": "https://localhost:8080/"
    },
    "executionInfo": {
     "elapsed": 81772,
     "status": "ok",
     "timestamp": 1679055136766,
     "user": {
      "displayName": "Kiranov Dmitry",
      "userId": "13421832052230981188"
     },
     "user_tz": -180
    },
    "id": "fr9Flx-CQHrf",
    "outputId": "5db8abad-748e-41c8-e8a4-fa4b264f2e6f",
    "ExecuteTime": {
     "end_time": "2023-11-15T23:02:29.336935Z",
     "start_time": "2023-11-15T23:02:29.330970Z"
    }
   },
   "outputs": [],
   "source": [
    "# Установим зависимости\n",
    "# !pip install transformers==4.11.0 torch==1.10.2 torchtext==0.11.2 "
   ]
  },
  {
   "cell_type": "markdown",
   "metadata": {
    "collapsed": false
   },
   "source": [
    "# Import Libraries\n",
    "\n",
    "---"
   ]
  },
  {
   "cell_type": "code",
   "execution_count": 2,
   "metadata": {
    "collapsed": false,
    "ExecuteTime": {
     "end_time": "2023-11-15T23:02:32.072608Z",
     "start_time": "2023-11-15T23:02:29.334684Z"
    }
   },
   "outputs": [],
   "source": [
    "from collections import Counter, OrderedDict\n",
    "from itertools import chain\n",
    "import math\n",
    "import multiprocessing\n",
    "import os\n",
    "import platform\n",
    "import random\n",
    "import sys\n",
    "import time\n",
    "\n",
    "import numpy as np\n",
    "\n",
    "import torch\n",
    "from torch import Tensor\n",
    "import torch.nn as nn\n",
    "from torch.nn import TransformerEncoder, TransformerEncoderLayer\n",
    "import torch.nn.functional as F\n",
    "\n",
    "import torchtext\n",
    "from torchtext.data.utils import get_tokenizer\n",
    "from torchtext.datasets import PennTreebank\n",
    "from torchtext.vocab import vocab, build_vocab_from_iterator\n",
    "\n",
    "from tqdm import tqdm\n",
    "\n",
    "import matplotlib.pyplot as plt\n",
    "\n",
    "%matplotlib inline"
   ]
  },
  {
   "cell_type": "markdown",
   "metadata": {
    "collapsed": false
   },
   "source": [
    "## Library Versions and System Information\n",
    "\n",
    "---"
   ]
  },
  {
   "cell_type": "code",
   "execution_count": 3,
   "metadata": {
    "collapsed": false,
    "ExecuteTime": {
     "end_time": "2023-11-15T23:02:32.110610Z",
     "start_time": "2023-11-15T23:02:32.073658Z"
    }
   },
   "outputs": [],
   "source": [
    "has_gpu = torch.cuda.is_available()\n",
    "has_mps = torch.backends.mps.is_available() and torch.backends.mps.is_built()\n",
    "DEVICE = torch.device(\"mps\" if has_mps else (\"gpu\" if has_gpu else \"cpu\"))\n",
    "\n",
    "if has_gpu:\n",
    "    os.environ[\"CUDA_VISIBLE_DEVICES\"]=\"0\"\n",
    "NUM_WORKERS = multiprocessing.cpu_count()"
   ]
  },
  {
   "cell_type": "code",
   "execution_count": 4,
   "metadata": {
    "collapsed": false,
    "ExecuteTime": {
     "end_time": "2023-11-15T23:02:32.580028Z",
     "start_time": "2023-11-15T23:02:32.113574Z"
    }
   },
   "outputs": [
    {
     "name": "stdout",
     "output_type": "stream",
     "text": [
      "Python Platform: macOS-14.1.1-arm64-arm-64bit\n",
      "Python 3.11.6 | packaged by conda-forge | (main, Oct  3 2023, 10:37:07) [Clang 15.0.7 ]\n",
      "\n",
      "PyTorch Version: 2.2.0.dev20231106\n",
      "Torch Text Version: 0.17.0.dev20231106\n",
      "GPU is NOT AVAILABLE\n",
      "MPS (Apple Metal) is AVAILABLE\n",
      "\n",
      "Target device is mps\n",
      "CPU count: 10\n",
      "Normal convolution take  0.24 sec.\n",
      "Groupped convolution take  0.02 sec.\n"
     ]
    }
   ],
   "source": [
    "def time_synchronized() -> float:\n",
    "    if torch.backends.mps.is_available():\n",
    "        torch.mps.synchronize()\n",
    "    elif torch.cuda.is_available():\n",
    "        torch.cuda.synchronize()\n",
    "    return time.time()\n",
    "\n",
    "\n",
    "def check_device() -> None:\n",
    "    input_random = torch.rand(8, 512, 112, 112).to(DEVICE)\n",
    "\n",
    "    start = time_synchronized()\n",
    "    _ = nn.Conv2d(512, 1024, 3, groups=1, device=DEVICE)(input_random)\n",
    "    print(f\"Normal convolution take  {time_synchronized() - start:.2f} sec.\")\n",
    "\n",
    "    start = time_synchronized()\n",
    "    _ = nn.Conv2d(512, 1024, 3, groups=64, device=DEVICE)(input_random)\n",
    "    print(f\"Groupped convolution take  {time_synchronized() - start:.2f} sec.\")\n",
    "\n",
    "\n",
    "def print_lib_info() -> None:\n",
    "    print(f\"Python Platform: {platform.platform()}\")\n",
    "    print(f\"Python {sys.version}\", end=\"\\n\\n\")\n",
    "    print(f\"PyTorch Version: {torch.__version__}\")\n",
    "    print(f\"Torch Text Version: {torchtext.__version__}\")\n",
    "    try:\n",
    "        from torchinfo import summary\n",
    "    except ImportError:\n",
    "        print(\"\\n[INFO] Couldn't find torchinfo... installing it\\n\")\n",
    "        raise SystemExit(os.system(\"pip install torchinfo\"))\n",
    "    print(\"GPU is\", \"available\" if has_gpu else \"NOT AVAILABLE\")\n",
    "    print(\"MPS (Apple Metal) is\", \"AVAILABLE\" if has_mps else \"NOT AVAILABLE\", end=\"\\n\\n\")\n",
    "    print(f\"Target device is {DEVICE.type}\")\n",
    "    print(f\"CPU count: {NUM_WORKERS}\")\n",
    "    check_device()\n",
    "\n",
    "\n",
    "print_lib_info()"
   ]
  },
  {
   "cell_type": "markdown",
   "metadata": {
    "collapsed": false
   },
   "source": [
    "# Options\n",
    "\n",
    "---\n",
    "\n",
    "Зафиксируем seed для воспроизводимости:"
   ]
  },
  {
   "cell_type": "code",
   "execution_count": 5,
   "metadata": {
    "collapsed": false,
    "ExecuteTime": {
     "end_time": "2023-11-15T23:02:32.583345Z",
     "start_time": "2023-11-15T23:02:32.579502Z"
    }
   },
   "outputs": [],
   "source": [
    "def seed_everything(seed: int) -> None:\n",
    "    random.seed(seed)\n",
    "    os.environ[\"PYTHONHASHSEED\"] = str(seed)\n",
    "    np.random.seed(seed)\n",
    "    torch.manual_seed(seed)\n",
    "    torch.cuda.manual_seed_all(seed)\n",
    "    torch.mps.manual_seed(seed)\n",
    "\n",
    "seed_everything(42)"
   ]
  },
  {
   "cell_type": "markdown",
   "metadata": {
    "collapsed": false
   },
   "source": [
    "# Load data\n",
    "\n",
    "---\n",
    "\n",
    "Будем использовать англоязычный [датасет **PennTreebank**](https://pytorch.org/text/stable/datasets.html#penntreebank), доступный во фреймворке `torchtext`. \n",
    "\n",
    "Для начала заглянем в датасет и посмотрим, что представляет из себя пример из датасета.\n",
    "\n",
    "1. Создадим итератор по данным, загрузив готовый датасет **PennTreebank** из `torchtext`, причем для начала, только обучающую `train` подвыборку, используя аргумент `split`.\n",
    "2. Определим небольшое число примеров для демонстрации.\n",
    "3. Создадим переменную для сохранения текста примеров в единый текст, в дальнейшем мы его заиспользуем для проверки паайплайна предобработки текста."
   ]
  },
  {
   "cell_type": "code",
   "execution_count": 6,
   "metadata": {
    "colab": {
     "base_uri": "https://localhost:8080/"
    },
    "executionInfo": {
     "elapsed": 4,
     "status": "ok",
     "timestamp": 1679055169636,
     "user": {
      "displayName": "Kiranov Dmitry",
      "userId": "13421832052230981188"
     },
     "user_tz": -180
    },
    "id": "2I7QDkUJQHrn",
    "outputId": "06c06c66-2aa5-4b89-907a-762ce8f87c29",
    "ExecuteTime": {
     "end_time": "2023-11-15T23:02:32.598999Z",
     "start_time": "2023-11-15T23:02:32.584024Z"
    }
   },
   "outputs": [
    {
     "name": "stdout",
     "output_type": "stream",
     "text": [
      "aer banknote berlitz calloway centrust cluett fromstein gitano guterman hydro-quebec ipo kia memotec mlx nahb punts rake regatta rubens sim snack-food ssangyong swapo wachter\n",
      "\n",
      "pierre <unk> N years old will join the board as a nonexecutive director nov. N\n",
      "\n",
      "mr. <unk> is chairman of <unk> n.v. the dutch publishing group\n",
      "\n",
      "rudolph <unk> N years old and former chairman of consolidated gold fields plc was named a nonexecutive director of this british industrial conglomerate\n",
      "\n",
      "a form of asbestos once used to make kent cigarette filters has caused a high percentage of cancer deaths among a group of workers exposed to it more than N years ago researchers reported\n"
     ]
    }
   ],
   "source": [
    "def concat_n_sample_str(train_iter_: PennTreebank, n_samples_: int = 5) -> str:\n",
    "    sample_lst = []\n",
    "    for ind, line in enumerate(train_iter_):\n",
    "        if ind == n_samples_:\n",
    "            break\n",
    "        print(line, end=\"\\n\\n\")\n",
    "        sample_lst.append(line)\n",
    "    return \" /n \".join(sample_lst)\n",
    "\n",
    "\n",
    "train_iter = PennTreebank(split=\"train\")\n",
    "training_samples_example = concat_n_sample_str(train_iter)"
   ]
  },
  {
   "cell_type": "markdown",
   "metadata": {
    "collapsed": false
   },
   "source": [
    "Посмотрим, как выглядят эти примеры, соединенные в одну строку:"
   ]
  },
  {
   "cell_type": "code",
   "execution_count": 7,
   "metadata": {
    "colab": {
     "base_uri": "https://localhost:8080/",
     "height": 87
    },
    "executionInfo": {
     "elapsed": 5,
     "status": "ok",
     "timestamp": 1679055170409,
     "user": {
      "displayName": "Kiranov Dmitry",
      "userId": "13421832052230981188"
     },
     "user_tz": -180
    },
    "id": "X2R9B4XlQHrt",
    "outputId": "6fb11d72-267a-4882-fc49-301aefd16f3b",
    "ExecuteTime": {
     "end_time": "2023-11-15T23:02:32.639003Z",
     "start_time": "2023-11-15T23:02:32.599258Z"
    }
   },
   "outputs": [
    {
     "data": {
      "text/plain": "'aer banknote berlitz calloway centrust cluett fromstein gitano guterman hydro-quebec ipo kia memotec mlx nahb punts rake regatta rubens sim snack-food ssangyong swapo wachter /n pierre <unk> N years old will join the board as a nonexecutive director nov. N /n mr. <unk> is chairman of <unk> n.v. the dutch publishing group /n rudolph <unk> N years old and former chairman of consolidated gold fields plc was named a nonexecutive director of this british industrial conglomerate /n a form of asbestos once used to make kent cigarette filters has caused a high percentage of cancer deaths among a group of workers exposed to it more than N years ago researchers reported'"
     },
     "execution_count": 7,
     "metadata": {},
     "output_type": "execute_result"
    }
   ],
   "source": [
    "training_samples_example"
   ]
  },
  {
   "cell_type": "markdown",
   "metadata": {
    "id": "AFCKojszQHsH"
   },
   "source": [
    "Мы собиаремся решать задачу **sequence-to-sequence** -- задачу предсказания следующего токена по предыдущим, то есть фактически задачу языкового моделирования. Поэтому нам не понадобятся пайплайны предобработки меток классов -- у нас их попросту нет."
   ]
  },
  {
   "cell_type": "markdown",
   "metadata": {
    "id": "ivqOU3QZQHsO"
   },
   "source": [
    "# Tokenization\n",
    "\n",
    "---\n",
    "\n",
    "Для построения словаря, нам необходимо определить токенизатор данных -- модель, которая будет разделять единый текст на токены -- наиболее популярные единицы языка. \n",
    "\n",
    "В данном работе будем использовать базовый токенизатор для английского языка из библиотеки `torchtext`."
   ]
  },
  {
   "cell_type": "code",
   "execution_count": 8,
   "metadata": {
    "collapsed": false,
    "ExecuteTime": {
     "end_time": "2023-11-15T23:02:32.640292Z",
     "start_time": "2023-11-15T23:02:32.602267Z"
    }
   },
   "outputs": [
    {
     "name": "stdout",
     "output_type": "stream",
     "text": [
      "ORIGINAL SAMPLE:\n",
      "aer banknote berlitz calloway centrust cluett fromstein gitano guterman hydro-quebec ipo kia memotec mlx nahb punts rake regatta rubens sim snack-food ssangyong swapo wachter\n",
      "TOKENIZED SAMPLE:\n",
      "['aer', 'banknote', 'berlitz', 'calloway', 'centrust', 'cluett', 'fromstein', 'gitano', 'guterman', 'hydro-quebec', 'ipo', 'kia', 'memotec', 'mlx', 'nahb', 'punts', 'rake', 'regatta', 'rubens', 'sim', 'snack-food', 'ssangyong', 'swapo', 'wachter']\n",
      "\n",
      "ORIGINAL SAMPLE:\n",
      "pierre <unk> N years old will join the board as a nonexecutive director nov. N\n",
      "TOKENIZED SAMPLE:\n",
      "['pierre', '<unk>', 'n', 'years', 'old', 'will', 'join', 'the', 'board', 'as', 'a', 'nonexecutive', 'director', 'nov', '.', 'n']\n",
      "\n",
      "ORIGINAL SAMPLE:\n",
      "mr. <unk> is chairman of <unk> n.v. the dutch publishing group\n",
      "TOKENIZED SAMPLE:\n",
      "['mr', '.', '<unk>', 'is', 'chairman', 'of', '<unk>', 'n', '.', 'v', '.', 'the', 'dutch', 'publishing', 'group']\n",
      "\n",
      "ORIGINAL SAMPLE:\n",
      "rudolph <unk> N years old and former chairman of consolidated gold fields plc was named a nonexecutive director of this british industrial conglomerate\n",
      "TOKENIZED SAMPLE:\n",
      "['rudolph', '<unk>', 'n', 'years', 'old', 'and', 'former', 'chairman', 'of', 'consolidated', 'gold', 'fields', 'plc', 'was', 'named', 'a', 'nonexecutive', 'director', 'of', 'this', 'british', 'industrial', 'conglomerate']\n",
      "\n",
      "ORIGINAL SAMPLE:\n",
      "a form of asbestos once used to make kent cigarette filters has caused a high percentage of cancer deaths among a group of workers exposed to it more than N years ago researchers reported\n",
      "TOKENIZED SAMPLE:\n",
      "['a', 'form', 'of', 'asbestos', 'once', 'used', 'to', 'make', 'kent', 'cigarette', 'filters', 'has', 'caused', 'a', 'high', 'percentage', 'of', 'cancer', 'deaths', 'among', 'a', 'group', 'of', 'workers', 'exposed', 'to', 'it', 'more', 'than', 'n', 'years', 'ago', 'researchers', 'reported']\n"
     ]
    },
    {
     "name": "stderr",
     "output_type": "stream",
     "text": [
      "/Users/mac/miniconda3/envs/nlp/lib/python3.11/site-packages/torch/utils/data/datapipes/iter/combining.py:337: UserWarning: Some child DataPipes are not exhausted when __iter__ is called. We are resetting the buffer and each child DataPipe will read from the start again.\n",
      "  warnings.warn(\"Some child DataPipes are not exhausted when __iter__ is called. We are resetting \"\n"
     ]
    }
   ],
   "source": [
    "tokenizer = get_tokenizer(\"basic_english\")\n",
    "\n",
    "tokenized_line = \"\"\n",
    "for ind, l in enumerate(train_iter):\n",
    "    if ind == 5:\n",
    "        break\n",
    "    tokenized_line = tokenizer(l.strip())\n",
    "    print(f\"ORIGINAL SAMPLE:\\n{l}\")\n",
    "    print(f\"TOKENIZED SAMPLE:\\n{tokenized_line}\", end=\"\\n\\n\")"
   ]
  },
  {
   "cell_type": "markdown",
   "metadata": {
    "id": "KhTiy_OBQHsW"
   },
   "source": [
    "# Dictionary\n",
    "\n",
    "---\n",
    "\n",
    "Теперь нам необходимо собрать словарь -- структуру данных, содержащую проиндексированные токены, которые мы сможем использовать для векторизации текстов -- представлении текстов в удобном машиночитаемом формате. Для сбора словаря, так как нас интересуют непосредственно те слова, которые есть в нашем датасете (но при этом, мы не можем использовать слова из тестовой подвыборки датасета при создлании словаря), то будем строить словарь на основе итерирования по токенам по обучающей выборки.\n",
    "\n",
    "Мы попрбуем два разных способа создать словарь на основе итератора по текстам. Оба способа создадут **идентичные по содержащимся токенам словари**.\n",
    "\n",
    "**Первый способ** заключается в использование `Counter` для сбора токенов и инициализации  `torchtext.vocab.Vocab` на основе собранного `Counter`."
   ]
  },
  {
   "cell_type": "code",
   "execution_count": 9,
   "metadata": {
    "collapsed": false,
    "ExecuteTime": {
     "end_time": "2023-11-15T23:02:33.125441Z",
     "start_time": "2023-11-15T23:02:32.614747Z"
    }
   },
   "outputs": [
    {
     "name": "stdout",
     "output_type": "stream",
     "text": [
      "Vocaublary size: 9922\n"
     ]
    }
   ],
   "source": [
    "def tokenize_iter(iter_) -> list:\n",
    "    return chain.from_iterable(map(tokenizer, iter_))\n",
    "\n",
    "\n",
    "def sort_by_values(iter_) -> OrderedDict:\n",
    "    return OrderedDict(sorted(iter_.items(), key=lambda x: x[1], reverse=True))\n",
    "\n",
    "\n",
    "vocab_v1 = vocab(sort_by_values(Counter(tokenize_iter(train_iter))))\n",
    "print(f\"Vocaublary size: {vocab_v1.__len__()}\")"
   ]
  },
  {
   "cell_type": "markdown",
   "metadata": {
    "id": "37zqqC7UQHsb"
   },
   "source": [
    "**Второй способ** состоит в создании словаря напрямую через итератор данных без использования `Counter`. Для этого воспользуемся функций `torchtext.vocab.build_vocab_from_iterator`."
   ]
  },
  {
   "cell_type": "code",
   "execution_count": 10,
   "metadata": {
    "colab": {
     "base_uri": "https://localhost:8080/"
    },
    "executionInfo": {
     "elapsed": 867,
     "status": "ok",
     "timestamp": 1679056520716,
     "user": {
      "displayName": "Kiranov Dmitry",
      "userId": "13421832052230981188"
     },
     "user_tz": -180
    },
    "id": "LUKbEwU5QHsd",
    "outputId": "549b0954-1138-434b-dfa7-98fe84ef1ba4",
    "ExecuteTime": {
     "end_time": "2023-11-15T23:02:33.683929Z",
     "start_time": "2023-11-15T23:02:33.124948Z"
    }
   },
   "outputs": [
    {
     "name": "stdout",
     "output_type": "stream",
     "text": [
      "Vocaublary size: 9922\n"
     ]
    }
   ],
   "source": [
    "def yield_tokens(iter_) -> str:\n",
    "    for line in iter_:\n",
    "        yield tokenizer(line)\n",
    "\n",
    "\n",
    "vocab_v2 = build_vocab_from_iterator(yield_tokens(train_iter), specials=[\"<unk>\"])\n",
    "# vocab_v2.set_default_index(vocab_v2[\"<unk>\"])\n",
    "print(f\"Vocaublary size: {vocab_v2.__len__()}\")"
   ]
  },
  {
   "cell_type": "code",
   "execution_count": 11,
   "metadata": {
    "colab": {
     "base_uri": "https://localhost:8080/"
    },
    "executionInfo": {
     "elapsed": 2,
     "status": "ok",
     "timestamp": 1679056510344,
     "user": {
      "displayName": "Kiranov Dmitry",
      "userId": "13421832052230981188"
     },
     "user_tz": -180
    },
    "id": "DKnXohZBf_w4",
    "outputId": "6a91172c-9774-4d81-ba75-c12a19b613e8",
    "ExecuteTime": {
     "end_time": "2023-11-15T23:02:33.689389Z",
     "start_time": "2023-11-15T23:02:33.686558Z"
    }
   },
   "outputs": [
    {
     "data": {
      "text/plain": "0"
     },
     "execution_count": 11,
     "metadata": {},
     "output_type": "execute_result"
    }
   ],
   "source": [
    "len(set(vocab_v1.vocab.get_itos()) ^ set(vocab_v2.vocab.get_itos()))"
   ]
  },
  {
   "cell_type": "code",
   "execution_count": 12,
   "metadata": {
    "collapsed": false,
    "ExecuteTime": {
     "end_time": "2023-11-15T23:02:33.692976Z",
     "start_time": "2023-11-15T23:02:33.691352Z"
    }
   },
   "outputs": [
    {
     "data": {
      "text/plain": "[5,\n 943,\n 3,\n 3130,\n 498,\n 262,\n 4,\n 137,\n 5844,\n 4201,\n 5845,\n 32,\n 986,\n 5,\n 240,\n 757,\n 3,\n 1014,\n 2757,\n 211,\n 5,\n 97,\n 3,\n 430,\n 4044,\n 4,\n 15,\n 46,\n 56,\n 2,\n 74,\n 195,\n 1233,\n 220]"
     },
     "execution_count": 12,
     "metadata": {},
     "output_type": "execute_result"
    }
   ],
   "source": [
    "vocab_v1(tokenized_line)"
   ]
  },
  {
   "cell_type": "code",
   "execution_count": 13,
   "metadata": {
    "collapsed": false,
    "ExecuteTime": {
     "end_time": "2023-11-15T23:02:33.701721Z",
     "start_time": "2023-11-15T23:02:33.694090Z"
    }
   },
   "outputs": [
    {
     "data": {
      "text/plain": "[5,\n 943,\n 3,\n 3137,\n 499,\n 263,\n 4,\n 138,\n 6053,\n 4223,\n 5997,\n 32,\n 988,\n 5,\n 241,\n 762,\n 3,\n 1016,\n 2778,\n 211,\n 5,\n 97,\n 3,\n 434,\n 4099,\n 4,\n 15,\n 46,\n 56,\n 2,\n 74,\n 195,\n 1244,\n 220]"
     },
     "execution_count": 13,
     "metadata": {},
     "output_type": "execute_result"
    }
   ],
   "source": [
    "vocab_v2(tokenized_line)"
   ]
  },
  {
   "cell_type": "code",
   "execution_count": 14,
   "metadata": {
    "collapsed": false,
    "ExecuteTime": {
     "end_time": "2023-11-15T23:02:33.703516Z",
     "start_time": "2023-11-15T23:02:33.698143Z"
    }
   },
   "outputs": [
    {
     "data": {
      "text/plain": "['the',\n '<unk>',\n 'n',\n 'of',\n 'to',\n 'a',\n 'in',\n 'and',\n '.',\n \"'\",\n 's',\n 'that',\n 'for',\n '$',\n 'is',\n 'it',\n 'said',\n 'on',\n 'by',\n 'at',\n 'as',\n 'from',\n 'million',\n 'with',\n 'mr',\n 'was',\n 'be',\n 'are',\n 'its',\n 'he',\n 'but',\n 't',\n 'has',\n 'an',\n 'will',\n 'have',\n 'new',\n 'or',\n 'company',\n 'they',\n 'this',\n 'year',\n 'which',\n 'would',\n 'about',\n 'says',\n 'more',\n 'were',\n 'market',\n 'u']"
     },
     "execution_count": 14,
     "metadata": {},
     "output_type": "execute_result"
    }
   ],
   "source": [
    "vocab_v1.vocab.get_itos()[:50]"
   ]
  },
  {
   "cell_type": "markdown",
   "metadata": {
    "id": "8hTiCQLsQHsg"
   },
   "source": [
    "Как мы видим, словари имеют одинаковые размер. Оба способа создают идентичные по содержащимся токенам словари."
   ]
  },
  {
   "cell_type": "code",
   "execution_count": 15,
   "metadata": {
    "collapsed": false,
    "ExecuteTime": {
     "end_time": "2023-11-15T23:02:33.703757Z",
     "start_time": "2023-11-15T23:02:33.700425Z"
    }
   },
   "outputs": [],
   "source": [
    "vocab_x = vocab_v1"
   ]
  },
  {
   "cell_type": "markdown",
   "metadata": {
    "id": "uzsGXd9_QHsi"
   },
   "source": [
    "# Data processing\n",
    "\n",
    "---\n",
    "\n",
    "Для подготовки датасета к процессу обучения модели seq2seq, необходимо \n",
    "* токенизировать тексты, \n",
    "* перевести токены в индексы токенов в словаре,\n",
    "* преобразовать результат в тензор."
   ]
  },
  {
   "cell_type": "code",
   "execution_count": 16,
   "metadata": {
    "id": "_IHj6SNHQHsk",
    "ExecuteTime": {
     "end_time": "2023-11-15T23:02:33.756113Z",
     "start_time": "2023-11-15T23:02:33.703674Z"
    }
   },
   "outputs": [],
   "source": [
    "def data_process_long(raw_text_iter) -> Tensor:\n",
    "    data_ = []\n",
    "    for item in raw_text_iter:\n",
    "        # каждый пример в датасете -- текст\n",
    "        # токенизируем полученный текст с помощью tokenizer\n",
    "        tokens_ = tokenizer(item)\n",
    "        \n",
    "        # для каждого токена из полученных токенизатором\n",
    "        # получаем индекс токена в словаре с помощью vocab\n",
    "        # и получаем лист индексов токенов\n",
    "        tokens_ids = list(map(vocab_x.__getitem__, tokens_))\n",
    "\n",
    "        # добавим в список data полученный тензор, если наш сэмпл данных содержит непустые токены\n",
    "        if len(tokens_ids):\n",
    "            # преобразуем полученный лист индексов токенов текста в torch.tensor\n",
    "            tensor_tokens_ids = torch.tensor(tokens_ids, dtype=torch.long)\n",
    "            data_ += [tensor_tokens_ids]\n",
    "    \n",
    "    return torch.cat(data_)"
   ]
  },
  {
   "cell_type": "markdown",
   "metadata": {
    "collapsed": false
   },
   "source": [
    "А теперь перепишем эту функцию, но компактнее записанную и использующую list comprehension вместо циклов for (list comprehension работает быстрее)"
   ]
  },
  {
   "cell_type": "code",
   "execution_count": 17,
   "metadata": {
    "id": "ryBoCnh9QHsk",
    "ExecuteTime": {
     "end_time": "2023-11-15T23:02:33.766987Z",
     "start_time": "2023-11-15T23:02:33.707015Z"
    }
   },
   "outputs": [],
   "source": [
    "def data_process(raw_text_iter) -> Tensor:\n",
    "    \n",
    "    def _get_tokens_ids(tokens_: list) -> list:\n",
    "        return list(map(vocab_x.__getitem__, tokens_))\n",
    "    \n",
    "    def _tokenize(item_) -> Tensor:\n",
    "        return torch.tensor(_get_tokens_ids(tokenizer(item_)), dtype=torch.long)\n",
    "\n",
    "    return torch.cat(\n",
    "        [_tokenize(item) for item in raw_text_iter if len(item.strip())]\n",
    "    )"
   ]
  },
  {
   "cell_type": "markdown",
   "metadata": {
    "collapsed": false
   },
   "source": [
    "Предобработаем данные:"
   ]
  },
  {
   "cell_type": "code",
   "execution_count": 18,
   "metadata": {
    "id": "4Cg8wTAaQHsm",
    "outputId": "2e6b4f31-6cda-4fae-a6d4-2638455d2184",
    "ExecuteTime": {
     "end_time": "2023-11-15T23:02:35.174827Z",
     "start_time": "2023-11-15T23:02:33.709542Z"
    }
   },
   "outputs": [
    {
     "name": "stdout",
     "output_type": "stream",
     "text": [
      "Number of training examples: 42068\n",
      "Number of validation examples: 3370\n",
      "Number of testing examples: 3761\n"
     ]
    }
   ],
   "source": [
    "train_iter, val_iter, test_iter = PennTreebank()\n",
    "\n",
    "print(f\"Number of training examples: {sum([1 for _ in train_iter])}\")\n",
    "print(f\"Number of validation examples: {sum([1 for _ in val_iter])}\")\n",
    "print(f\"Number of testing examples: {sum([1 for _ in test_iter])}\")\n",
    "\n",
    "train_processed_data = data_process(train_iter)\n",
    "val_processed_data = data_process(val_iter)\n",
    "test_processed_data = data_process(test_iter)"
   ]
  },
  {
   "cell_type": "code",
   "execution_count": 19,
   "metadata": {
    "collapsed": false,
    "ExecuteTime": {
     "end_time": "2023-11-15T23:02:35.180229Z",
     "start_time": "2023-11-15T23:02:35.175340Z"
    }
   },
   "outputs": [
    {
     "data": {
      "text/plain": "tensor([9892, 9893, 9894, 9895, 9896, 9897, 9898, 9899, 9900, 9901, 9902, 9903,\n        9904, 9905, 9906, 9907, 9908, 9909, 9910, 9911, 9912, 9913, 9914, 9915,\n        8506,    1,    2,   74,  395,   34, 2109,    0,  146,   20,    5, 8507,\n         275,  410,    8,    2,   24,    8,    1,   14,  141,    3,    1,    2,\n           8, 2457,    8,    0, 3044, 1580,   97, 7181,    1,    2,   74,  395,\n           7,  339,  141,    3, 2458,  659, 2150,  950,   25,  524,    5, 8507,\n         275,    3,   40,  303,  440, 3644,    5,  943,    3, 3130,  498,  262,\n           4,  137, 5844, 4201, 5845,   32,  986,    5,  240,  757,    3, 1014,\n        2757,  211,    5,   97])"
     },
     "execution_count": 19,
     "metadata": {},
     "output_type": "execute_result"
    }
   ],
   "source": [
    "train_processed_data[:100]"
   ]
  },
  {
   "cell_type": "markdown",
   "metadata": {
    "collapsed": false
   },
   "source": [
    "Посмотрим, какой получился размер обучающей выборки в числе токенов:"
   ]
  },
  {
   "cell_type": "code",
   "execution_count": 20,
   "metadata": {
    "id": "NI56r1lmQHsv",
    "outputId": "72adbb20-e1be-4529-87f8-3306de2c4ecf",
    "ExecuteTime": {
     "end_time": "2023-11-15T23:02:35.184185Z",
     "start_time": "2023-11-15T23:02:35.179501Z"
    }
   },
   "outputs": [
    {
     "data": {
      "text/plain": "torch.Size([924412])"
     },
     "execution_count": 20,
     "metadata": {},
     "output_type": "execute_result"
    }
   ],
   "source": [
    "train_processed_data.shape"
   ]
  },
  {
   "cell_type": "markdown",
   "metadata": {
    "collapsed": false
   },
   "source": [
    "Попробуем перевести индексы слов в словаре в токены с помощью метода lookup_tokens:"
   ]
  },
  {
   "cell_type": "code",
   "execution_count": 21,
   "metadata": {
    "id": "TgHLvtlgQHs0",
    "outputId": "fb7808b2-6f47-42e3-b99b-f3836822740f",
    "ExecuteTime": {
     "end_time": "2023-11-15T23:02:35.185898Z",
     "start_time": "2023-11-15T23:02:35.182445Z"
    }
   },
   "outputs": [
    {
     "data": {
      "text/plain": "['aer',\n 'banknote',\n 'berlitz',\n 'calloway',\n 'centrust',\n 'cluett',\n 'fromstein',\n 'gitano',\n 'guterman',\n 'hydro-quebec',\n 'ipo',\n 'kia',\n 'memotec',\n 'mlx',\n 'nahb',\n 'punts',\n 'rake',\n 'regatta',\n 'rubens',\n 'sim']"
     },
     "execution_count": 21,
     "metadata": {},
     "output_type": "execute_result"
    }
   ],
   "source": [
    "vocab_v1.lookup_tokens(train_processed_data[:20].tolist())"
   ]
  },
  {
   "cell_type": "markdown",
   "metadata": {
    "id": "3UhOq8AOQHs3"
   },
   "source": [
    "Воспользуемся отложенной ранее строкой `training_samples_example`, чтобы проверить работу словаря и токенизатора:"
   ]
  },
  {
   "cell_type": "code",
   "execution_count": 22,
   "metadata": {
    "id": "GQ3k1cTMQHs7",
    "outputId": "504511c0-b580-4f2d-bbe3-0f9beed636de",
    "ExecuteTime": {
     "end_time": "2023-11-15T23:02:35.196239Z",
     "start_time": "2023-11-15T23:02:35.185375Z"
    }
   },
   "outputs": [
    {
     "data": {
      "text/plain": "[9892,\n 9893,\n 9894,\n 9895,\n 9896,\n 9897,\n 9898,\n 9899,\n 9900,\n 9901,\n 9902,\n 9903,\n 9904,\n 9905,\n 9906,\n 9907,\n 9908,\n 9909,\n 9910,\n 9911]"
     },
     "execution_count": 22,
     "metadata": {},
     "output_type": "execute_result"
    }
   ],
   "source": [
    "training_sample_indices = vocab_x.lookup_indices(tokenizer(training_samples_example)[:20])\n",
    "training_sample_indices"
   ]
  },
  {
   "cell_type": "code",
   "execution_count": 23,
   "metadata": {
    "id": "JYjqmgfKQHs9",
    "outputId": "b403ddf1-4978-4165-e4f3-593d70d0a614",
    "ExecuteTime": {
     "end_time": "2023-11-15T23:02:35.196687Z",
     "start_time": "2023-11-15T23:02:35.187998Z"
    }
   },
   "outputs": [
    {
     "data": {
      "text/plain": "['aer',\n 'banknote',\n 'berlitz',\n 'calloway',\n 'centrust',\n 'cluett',\n 'fromstein',\n 'gitano',\n 'guterman',\n 'hydro-quebec',\n 'ipo',\n 'kia',\n 'memotec',\n 'mlx',\n 'nahb',\n 'punts',\n 'rake',\n 'regatta',\n 'rubens',\n 'sim']"
     },
     "execution_count": 23,
     "metadata": {},
     "output_type": "execute_result"
    }
   ],
   "source": [
    "vocab_x.lookup_tokens(training_sample_indices)"
   ]
  },
  {
   "cell_type": "markdown",
   "metadata": {
    "id": "_zRuasXiQHtD"
   },
   "source": [
    "# Batchify\n",
    "\n",
    "---\n",
    "\n",
    "Для задачи sequence-to-sequence также хочется использовать батчевание данных для обучения. Однако все примеры в данных обычно разной длины, что в некоторых задач, например, переводе текста или суммаризации, когда входная и целевая последовательности отличаются, приводит к тому, что для кжадого батча определяется собственная максимальная длина (либо длина самого длинного прмиера в батче, либо максимальная допустимая длина примера). В задаче языкового моделирования, а именно предсказания следующего токена последовательности, обычно используется другой способ батчевания данных -- все примеры батча склеиваются в единую последовательность, а затем разбиваются на батчи,а лишние элементы отбрасываются. Да, теряется связь между последовательными элементами, попавшивими в разные батчи, однако, это делает вычисления значительно эффективнее."
   ]
  },
  {
   "cell_type": "code",
   "execution_count": 25,
   "metadata": {
    "id": "ThxlcOi1QHtD",
    "ExecuteTime": {
     "end_time": "2023-11-15T23:02:35.288285Z",
     "start_time": "2023-11-15T23:02:35.194589Z"
    }
   },
   "outputs": [],
   "source": [
    "def batchify(data_, batch_size_: int) -> Tensor:\n",
    "    n_batch = data_.size(0) // batch_size_\n",
    "    \n",
    "    # обрезаем все элементы, которые не помещаются в пространство nbatch * batch_size\n",
    "    data_ = data_.narrow(0, 0, n_batch * batch_size_)\n",
    "    # абсолютно аналогично работает следующая строка:\n",
    "    # data = data[:nbatch * batch_size]\n",
    "    \n",
    "    # теперь разделим данные на столбцы по размеру батча\n",
    "    data_ = data_.view(batch_size_, n_batch)\n",
    "    data_ = data_.t()\n",
    "    \n",
    "    # преобразуем наш тензор в непрерывный в памяти с помощью метода contiguous\n",
    "    data_ = data_.contiguous()\n",
    "    \n",
    "    return data_.to(DEVICE)\n",
    "\n",
    "\n",
    "batch_size = 20  # определим размер батча на время обучения\n",
    "eval_batch_size = 10  # определим размер батча на время инференса\n",
    "\n",
    "train_data = batchify(train_processed_data, batch_size)\n",
    "val_data = batchify(val_processed_data, eval_batch_size)\n",
    "test_data = batchify(test_processed_data, eval_batch_size)"
   ]
  },
  {
   "cell_type": "code",
   "execution_count": 26,
   "metadata": {
    "id": "JUX12PKLQHtE",
    "outputId": "8b635773-09c1-42ae-fb7c-2feb23c173f0",
    "ExecuteTime": {
     "end_time": "2023-11-15T23:02:35.299461Z",
     "start_time": "2023-11-15T23:02:35.223278Z"
    }
   },
   "outputs": [
    {
     "data": {
      "text/plain": "tensor([9892,    4,   31,   16, 1939,  178,    3, 2313,    5,   42, 3363, 1629,\n           0,  732, 3692, 5695, 2139, 1688,  801,  828], device='mps:0')"
     },
     "execution_count": 26,
     "metadata": {},
     "output_type": "execute_result"
    }
   ],
   "source": [
    "train_data[0]"
   ]
  },
  {
   "cell_type": "code",
   "execution_count": 27,
   "metadata": {
    "id": "PqAVFNQcQHtJ",
    "outputId": "020ffeb3-030e-4a70-8611-ea507f0053fd",
    "ExecuteTime": {
     "end_time": "2023-11-15T23:02:35.299854Z",
     "start_time": "2023-11-15T23:02:35.232476Z"
    }
   },
   "outputs": [
    {
     "data": {
      "text/plain": "torch.Size([46220, 20])"
     },
     "execution_count": 27,
     "metadata": {},
     "output_type": "execute_result"
    }
   ],
   "source": [
    "train_data.shape"
   ]
  },
  {
   "cell_type": "markdown",
   "metadata": {
    "id": "Zui9G644QHtJ"
   },
   "source": [
    "Теперь мы видим, что у нас есть последовательности данных, неудобные для использования - первая размерность очень большая. Необходимо сделать итерации по первой размерности.\n",
    "\n",
    "\n",
    "Создадим функцию для получения определенного i-го батча данных.\n",
    "\n",
    "При этом введем переменную, содержащую максимальную длину последовательности."
   ]
  },
  {
   "cell_type": "code",
   "execution_count": 28,
   "metadata": {
    "collapsed": false,
    "ExecuteTime": {
     "end_time": "2023-11-15T23:02:35.299990Z",
     "start_time": "2023-11-15T23:02:35.235045Z"
    }
   },
   "outputs": [],
   "source": [
    "BPTT = 35"
   ]
  },
  {
   "cell_type": "code",
   "execution_count": 29,
   "metadata": {
    "id": "VZ7nl0Q1QHtQ",
    "ExecuteTime": {
     "end_time": "2023-11-15T23:02:35.300081Z",
     "start_time": "2023-11-15T23:02:35.238018Z"
    }
   },
   "outputs": [],
   "source": [
    "def get_batch(source_: Tensor, i_: int) -> tuple:\n",
    "    \"\"\"\n",
    "    Функция генерирует батч пар входная-выходная последовательности.\n",
    "    Так как последовательности являются длинными, \n",
    "    то мы используем не только размер батча, но и data chunks.\n",
    "    \n",
    "    Returns:\n",
    "    - data of dimension (bptt, batch_size)\n",
    "    - targets of dimension (bptt * batch_size)\n",
    "    \"\"\"\n",
    "    # определяем длину последовательности между BPTT и размером всех данных\n",
    "    seq_len = min(BPTT, len(source_) - 1 - i_)\n",
    "    data_ = source_[i_ : i_ + seq_len]\n",
    "    target_ = source_[i_ + 1 : i_ + 1 + seq_len].reshape(-1)\n",
    "    return data_, target_"
   ]
  },
  {
   "cell_type": "code",
   "execution_count": 30,
   "metadata": {
    "id": "W-2ybdYUQHtT",
    "outputId": "7a35e1da-bdad-49a0-c37c-e725886a4a90",
    "ExecuteTime": {
     "end_time": "2023-11-15T23:02:35.300292Z",
     "start_time": "2023-11-15T23:02:35.240175Z"
    }
   },
   "outputs": [
    {
     "name": "stdout",
     "output_type": "stream",
     "text": [
      "torch.Size([35, 20])\n",
      "torch.Size([700])\n"
     ]
    }
   ],
   "source": [
    "data, targets = get_batch(train_data, 1)\n",
    "print(data.shape)\n",
    "print(targets.shape)"
   ]
  },
  {
   "cell_type": "markdown",
   "metadata": {
    "id": "SNSFOfiMQHtU"
   },
   "source": [
    "# Architecture of the model\n",
    "\n",
    "---\n",
    "\n",
    "В данной работе мы обучаем модели **Трансформер** с нуля на задаче языкового моделирования. \n",
    "\n",
    "Задача языкового моделирования заключается в предсказании распеределения вероятностей заданного токена встретиться сразу после заданной последовательности токенов, то есть по сути, предсказании следующего токена в последовательности.\n",
    "\n",
    "Для языкового моделирования можно использовать модели, состоящие только из энкодера (encoder-only), например модель BERT содержит только энкодер. \n",
    "\n",
    "Итак, будем использовать `torch.nn.TransformerEncoderLayer` и `torch.nn.TransformerEncoder` (который состоит из заданного количества `nn.TransformerEncoderLayer`) в качестве энкодера.\n",
    "\n",
    "Для создания такой модели необходима следующая последовательность действий:\n",
    "1. последовательность токенов (индексов токенов) передается в слой векторных представлений.\n",
    "2. далее последовательность передается в слой позиционных векторных представлений (positional encoding layer), отвечающих за передачу информации о последовательности токенов.\n",
    "3. Полученные векторные представления передаются в линейный слой, размерность которого соответствует размеру словаря. Данный слой предсказывает распределение вероятностей по словарю для следующего токена последовательности.\n",
    "\n",
    "Важной особенностью модели Трансформер является использование masked self-attention, данный метод не позволяет модели смотреть вперед (обращать внимание на токены, которые идут после заданного). Для этого используется специальная маска -- матрица, зануляющая элементы, на которые нельзя обращать внимание.\n",
    "\n",
    "\n",
    "На рисунке ниже представлена схема encoder-only модели. В качестве features мы получаем скрытые векторные представления входной последовательности, которые пропускаются через линейный слой для получения распределения вероятностей по словарю для следующего токена. Причем таких Encoder block может быть расположено последовательно несколько штук.\n",
    "\n",
    "![img](https://vaclavkosar.com/images/transformer-encoder-decoder.png)\n"
   ]
  },
  {
   "cell_type": "markdown",
   "metadata": {
    "id": "fwyDRwg5QHtX"
   },
   "source": [
    "## Positional Encoding\n",
    "\n",
    "---\n",
    "\n",
    "\n",
    "**Позиционные векторные представления**\n",
    "\n",
    "Для передачи модели информации о взаимном расположении токенов необходимо также добавить позиционные векторные представления. Позиционные векторные представленияимеют те же размерности, что и векторные представления токенов самих по себе, что позволяет суммировать их в дальнейшем. В оригианльной работе [**Attention is All You Need**](https://arxiv.org/abs/1706.03762) авторы исследуют разные варианты используемых функций для позиционных векторных представлений и приходят к выводу, что используемые функции не играют значительной роли. Наиболее распространенными вариантами являются периодические функции синуса и косинуса.\n"
   ]
  },
  {
   "cell_type": "code",
   "execution_count": 31,
   "metadata": {
    "id": "-z2tOFrDQHtZ",
    "ExecuteTime": {
     "end_time": "2023-11-15T23:02:35.300472Z",
     "start_time": "2023-11-15T23:02:35.244961Z"
    }
   },
   "outputs": [],
   "source": [
    "class PositionalEncoding(nn.Module):\n",
    "\n",
    "    def __init__(self, d_model_, dropout_: float = 0.1, max_len_: int = 5000):\n",
    "        super(PositionalEncoding, self).__init__()\n",
    "        \n",
    "        # создадим слой dropout как инстанс nn.Dropout слоя\n",
    "        self.dropout = nn.Dropout(p=dropout_)\n",
    "        \n",
    "        # создадим нулевую матрицу размера (max_len x d_model)\n",
    "        pe = torch.zeros(max_len_, d_model_)\n",
    "        \n",
    "        # создадим переменную position как вектор размера max_len, \n",
    "        # содержащий последовательные значения от 0 до max_len-1\n",
    "        # вытянем position вдоль оси 1\n",
    "        position = torch.arange(0, max_len_).unsqueeze(1).float()\n",
    "        \n",
    "        # создадим переменную размера d_model / 2, \n",
    "        # содержащую каждое 2-е последовательное значение от 0 до d_model-1   \n",
    "        div_term = torch.arange(0, d_model_, 2).float()\n",
    "        \n",
    "        # домножим значения на специальный коэффициент (-math.log(10000.0) / d_model)\n",
    "        div_term = torch.exp(div_term * (-math.log(10000.0) / d_model_))\n",
    "        \n",
    "        # эмбеддинги нечетных элементов пропускают через sin\n",
    "        pe[:, 0::2] = torch.sin(position * div_term)\n",
    "        \n",
    "        # эмбеддинги четных элементов пропускают через cos\n",
    "        pe[:, 1::2] = torch.cos(position * div_term)\n",
    "        \n",
    "        # вытянем pe вдоль оси 0\n",
    "        pe = pe.unsqueeze(0)\n",
    "        \n",
    "        # транспонируем ее\n",
    "        pe = pe.transpose(0, 1)\n",
    "        \n",
    "        # добавим pe переменную в буффер модуля\n",
    "        self.register_buffer(\"pe\", pe)\n",
    "\n",
    "    def forward(self, x_: Tensor) -> Tensor:\n",
    "        # добавим векторные представления pe соответствующего размера\n",
    "        x_ = x_ + self.pe[:x_.size(0), :]\n",
    "        \n",
    "        # пропустим выход через слой dropout\n",
    "        return self.dropout(x_)"
   ]
  },
  {
   "cell_type": "markdown",
   "metadata": {
    "id": "dPvsgqF6QHta"
   },
   "source": [
    "**Создадим саму архиектуру модели, использующую наши позиционные векторные представления**."
   ]
  },
  {
   "cell_type": "code",
   "execution_count": 32,
   "metadata": {
    "id": "kAsC9TncQHta",
    "ExecuteTime": {
     "end_time": "2023-11-15T23:02:35.300671Z",
     "start_time": "2023-11-15T23:02:35.246390Z"
    }
   },
   "outputs": [],
   "source": [
    "class TransformerModel(nn.Module):\n",
    "\n",
    "    def __init__(self, vocab_size_: int, emb_size_: int, n_heads_: int, \n",
    "                 n_blocks_: int, hidden_dim_: int, dropout_: float = 0.5) -> None:\n",
    "        super(TransformerModel, self).__init__()\n",
    "        \n",
    "        self.emb_size = emb_size_\n",
    "        self.model_type = \"Transformer\"\n",
    "        \n",
    "        # создадим слой как инстанс класса PositionalEncoding\n",
    "        self.pos_encoder = PositionalEncoding(\n",
    "            d_model_=emb_size_, \n",
    "            dropout_=dropout_\n",
    "        )\n",
    "        \n",
    "        # создадим слой как инстанс слоя TransformerEncoderLayer\n",
    "        encoder_layers = TransformerEncoderLayer(\n",
    "            d_model=emb_size_, \n",
    "            nhead=n_heads_, \n",
    "            dim_feedforward=hidden_dim_, \n",
    "            dropout=dropout_\n",
    "        )\n",
    "        \n",
    "        # создадим слой как инстанс слоя TransformerEncoder\n",
    "        self.transformer_encoder = TransformerEncoder(\n",
    "            encoder_layer=encoder_layers, \n",
    "            num_layers=n_blocks_\n",
    "        )\n",
    "        \n",
    "        # создадим слой как инстанс слоя nn.Embedding\n",
    "        self.encoder = nn.Embedding(\n",
    "            num_embeddings=vocab_size_, \n",
    "            embedding_dim=emb_size_\n",
    "        )\n",
    "        \n",
    "        # создадим слой как инстанс слоя nn.Linear\n",
    "        self.decoder = nn.Linear(\n",
    "            in_features=emb_size_, \n",
    "            out_features=vocab_size_\n",
    "        )\n",
    "        \n",
    "        # инициализируем веса нашей модели\n",
    "        self.init_weights()\n",
    "    \n",
    "    @staticmethod\n",
    "    def generate_square_subsequent_mask(sz: int) -> Tensor:\n",
    "        \"\"\"\n",
    "        Данный метод создает квадратную маску размера (sz x sz) для self-attention.\n",
    "        \"\"\"\n",
    "        \n",
    "        # создадим единичную матрицу torch.ones размера (sz x sz)\n",
    "        mask = torch.ones(sz, sz)\n",
    "        \n",
    "        # превратим ее в верхнетреугольную матрицу\n",
    "        # (элементы на диагонали и выше диагонали -- единицы, остальные -- нули)\n",
    "        mask = torch.triu(mask)\n",
    "        \n",
    "        # транспонируем ее\n",
    "        mask = mask.transpose(0, 1)\n",
    "        \n",
    "        # заменим значения, равные нулю, на -inf\n",
    "        mask = mask.masked_fill(mask == 0, float(\"-inf\"))\n",
    "        \n",
    "        # заменим значения, равные единице, на 0.0\n",
    "        mask = mask.masked_fill(mask == 1, float(0.0))\n",
    "        \n",
    "        return mask\n",
    "\n",
    "    def init_weights(self, init_range: float = 0.1) -> None:\n",
    "        # инициализируем веса энкодера случайными величинами \n",
    "        # из равномерного распределения в диапазоне (-init_range, init_range) \n",
    "        self.encoder.weight.data.uniform_(-init_range, init_range)\n",
    "        \n",
    "        # зададим в качестве начальных нулевые bias \n",
    "        self.decoder.bias.data.zero_()\n",
    "        \n",
    "        # инициализируем веса декодера (линейного слоя) случайными величинами \n",
    "        # из равномерного распределения в диапазоне (-init_range, init_range) \n",
    "        self.decoder.weight.data.uniform_(-init_range, init_range)\n",
    "\n",
    "    def forward(self, src: Tensor, src_mask: Tensor) -> Tensor:\n",
    "        # входную последовательность обрабатываем с помощью encoder\n",
    "        src = self.encoder(src)\n",
    "        \n",
    "        # умножаем на квадратный корень из размера векторных представлений\n",
    "        src = src * math.sqrt(self.emb_size)\n",
    "        \n",
    "        # обрабатываем с помощью pos_encoder\n",
    "        src = self.pos_encoder(src)\n",
    "        \n",
    "        # обрабатываем с помощью transformer_encoder, \n",
    "        # который также принимает на вход маску для self-attention\n",
    "        output = self.transformer_encoder(src, src_mask)\n",
    "        \n",
    "        # обрабатываем с помощью decoder \n",
    "        output = self.decoder(output)\n",
    "        \n",
    "        return output"
   ]
  },
  {
   "cell_type": "markdown",
   "metadata": {
    "id": "yv04BKl2QHta"
   },
   "source": [
    "## Init model\n",
    "\n",
    "---\n",
    "\n",
    "Теперь мы можем инициалировать класс модели. Выберем размер векторных представлений 200 (можем изменить и на больший размер)."
   ]
  },
  {
   "cell_type": "code",
   "execution_count": 33,
   "metadata": {
    "id": "EEoDhS7EQHta",
    "outputId": "dfa5fb9f-a197-429e-dcbf-bd11d31402de",
    "ExecuteTime": {
     "end_time": "2023-11-15T23:02:35.300758Z",
     "start_time": "2023-11-15T23:02:35.253570Z"
    }
   },
   "outputs": [],
   "source": [
    "# размер словаря\n",
    "vocab_size = vocab_x.__len__()\n",
    "\n",
    "# размер векторных представлений\n",
    "emb_size = 200\n",
    "\n",
    "# размерность скрытого полносвязного слоя в nn.TransformerEncoder\n",
    "hidden_dim = 200 \n",
    "\n",
    "# число nn.TransformerEncoderLayer слоев в nn.TransformerEncoder\n",
    "n_blocks = 2\n",
    "\n",
    "# число голов в multiheadattention \n",
    "n_heads = 2\n",
    "\n",
    "# величина dropout\n",
    "dropout = 0.2"
   ]
  },
  {
   "cell_type": "markdown",
   "metadata": {
    "collapsed": false
   },
   "source": [
    "Инициализируем нашу модель класса TransformerModel, передав в качестве аргументов: \n",
    "1. размер словаря\n",
    "2. размер векторных представлений\n",
    "3. число голов в `multiheadattention` \n",
    "4. размерность скрытого полносвязного слоя в `nn.TransformerEncoder`\n",
    "5. число `nn.TransformerEncoderLayer` слоев в `nn.TransformerEncoder`\n",
    "6. величину `dropout`"
   ]
  },
  {
   "cell_type": "code",
   "execution_count": 40,
   "metadata": {
    "collapsed": false,
    "ExecuteTime": {
     "end_time": "2023-11-15T23:03:26.422199Z",
     "start_time": "2023-11-15T23:03:26.347611Z"
    }
   },
   "outputs": [
    {
     "name": "stderr",
     "output_type": "stream",
     "text": [
      "/Users/mac/miniconda3/envs/nlp/lib/python3.11/site-packages/torch/nn/modules/transformer.py:282: UserWarning: enable_nested_tensor is True, but self.use_nested_tensor is False because encoder_layer.self_attn.batch_first was not True(use batch_first for better inference performance)\n",
      "  warnings.warn(f\"enable_nested_tensor is True, but self.use_nested_tensor is False because {why_not_sparsity_fast_path}\")\n"
     ]
    },
    {
     "data": {
      "text/plain": "TransformerModel(\n  (pos_encoder): PositionalEncoding(\n    (dropout): Dropout(p=0.2, inplace=False)\n  )\n  (transformer_encoder): TransformerEncoder(\n    (layers): ModuleList(\n      (0-1): 2 x TransformerEncoderLayer(\n        (self_attn): MultiheadAttention(\n          (out_proj): NonDynamicallyQuantizableLinear(in_features=200, out_features=200, bias=True)\n        )\n        (linear1): Linear(in_features=200, out_features=200, bias=True)\n        (dropout): Dropout(p=0.2, inplace=False)\n        (linear2): Linear(in_features=200, out_features=200, bias=True)\n        (norm1): LayerNorm((200,), eps=1e-05, elementwise_affine=True)\n        (norm2): LayerNorm((200,), eps=1e-05, elementwise_affine=True)\n        (dropout1): Dropout(p=0.2, inplace=False)\n        (dropout2): Dropout(p=0.2, inplace=False)\n      )\n    )\n  )\n  (encoder): Embedding(9922, 200)\n  (decoder): Linear(in_features=200, out_features=9922, bias=True)\n)"
     },
     "execution_count": 40,
     "metadata": {},
     "output_type": "execute_result"
    }
   ],
   "source": [
    "model = TransformerModel(vocab_size, emb_size, n_heads, n_blocks, hidden_dim, dropout)\n",
    "model.to(DEVICE)"
   ]
  },
  {
   "cell_type": "markdown",
   "metadata": {
    "id": "m0oh07HXQHtb"
   },
   "source": [
    "# Training\n",
    "\n",
    "---\n",
    "\n",
    "В качестве лосса используем **CrossEntropyLoss**, в качестве оптимайзера -- **Stochastic Gradient Descent (SGD)**."
   ]
  },
  {
   "cell_type": "code",
   "execution_count": 41,
   "metadata": {
    "collapsed": false,
    "ExecuteTime": {
     "end_time": "2023-11-15T23:03:30.995074Z",
     "start_time": "2023-11-15T23:03:30.991726Z"
    }
   },
   "outputs": [],
   "source": [
    "LOG_INTERVAL = 500\n",
    "EPOCHS = 3\n",
    "LR = 5\n",
    "\n",
    "# определим функцию потерь torch.nn.CrossEntropyLoss\n",
    "criterion = nn.CrossEntropyLoss()\n",
    "\n",
    "# определим оптимизатор torch.optim.SGD с заданным lr, \n",
    "# передав также параметры модели model.parameters()\n",
    "optimizer = torch.optim.SGD(model.parameters(), lr=LR)\n",
    "\n",
    "# определим расписание изменения значения lr torch.optim.lr_scheduler.StepLR\n",
    "# передав в качестве аргументов optimizer, \n",
    "# значение step_size равное 1, и значение gamma 0.95 (коэффициент убывания)\n",
    "scheduler = torch.optim.lr_scheduler.StepLR(optimizer, step_size=1, gamma=0.95)"
   ]
  },
  {
   "cell_type": "code",
   "execution_count": 42,
   "metadata": {
    "collapsed": false,
    "ExecuteTime": {
     "end_time": "2023-11-15T23:03:34.372115Z",
     "start_time": "2023-11-15T23:03:34.366676Z"
    }
   },
   "outputs": [],
   "source": [
    "train_log_str = \"| epoch {:3d} | {:5d}/{:5d} batches | lr {:02.2f} | ms/batch {:5.2f} | loss {:5.2f} | ppl {:8.2f}\""
   ]
  },
  {
   "cell_type": "code",
   "execution_count": 43,
   "metadata": {
    "id": "W84myrlJQHtf",
    "ExecuteTime": {
     "end_time": "2023-11-15T23:03:35.469511Z",
     "start_time": "2023-11-15T23:03:35.463778Z"
    }
   },
   "outputs": [],
   "source": [
    "def train(data_source_: Tensor, epoch_: int) -> list:\n",
    "    batch_num = len(train_data) // BPTT\n",
    "    train_losses_lst = []\n",
    "    \n",
    "    model.train()\n",
    "    \n",
    "    total_loss = 0.\n",
    "    start_time = time.time()\n",
    "    \n",
    "    # используем метод модели для генерации маски, передавая в качестве аргумента BPTT\n",
    "    src_mask = model.generate_square_subsequent_mask(BPTT).to(DEVICE)\n",
    "    \n",
    "    for batch, batch_ind in enumerate(tqdm(range(0, data_source_.size(0) - 1, BPTT))):\n",
    "        data_, targets_ = get_batch(data_source_, batch_ind)\n",
    "        \n",
    "        model.zero_grad()\n",
    "        \n",
    "        if data_.size(0) != BPTT:\n",
    "            src_mask = model.generate_square_subsequent_mask(data_.size(0)).to(DEVICE)\n",
    "        \n",
    "        output = model(data_, src_mask)\n",
    "        \n",
    "        # получим распределение logits по выходным токенам \n",
    "        output_tokens = output.view(-1, vocab_size)\n",
    "        \n",
    "        # подсчитываем лосс, вычисляемого на основе output_tokens и targets \n",
    "        # (targets -- это те же токены, сдвинутые на 1 вперед)\n",
    "        loss = criterion(output_tokens, targets_)\n",
    "        \n",
    "        # обратное распространение ошибки с помощью метода backward()\n",
    "        loss.backward()\n",
    "        \n",
    "        # ограничиваем норму градиентов с помощью метода, \n",
    "        # в который передаются параметры модели и макс. значение нормы 0.5\n",
    "        torch.nn.utils.clip_grad_norm_(model.parameters(), 0.5)\n",
    "        \n",
    "        # делаем шаг оптимизатора: обновляем веса модели\n",
    "        optimizer.step()\n",
    "        \n",
    "        total_loss += loss.item()\n",
    "        train_losses_lst += [loss.item()]\n",
    "        \n",
    "        # проверяем, не настало ли время логирования скоров на обучающей выборке\n",
    "        if (batch % LOG_INTERVAL == 0) and (batch > 0):\n",
    "            cur_loss = total_loss / LOG_INTERVAL\n",
    "            elapsed = time.time() - start_time\n",
    "            print(train_log_str.format(\n",
    "                epoch_, \n",
    "                batch, \n",
    "                batch_num, \n",
    "                scheduler.get_last_lr()[0],\n",
    "                elapsed * 1000 / LOG_INTERVAL,\n",
    "                cur_loss, math.exp(cur_loss)\n",
    "            ))\n",
    "            total_loss = 0\n",
    "            start_time = time.time()\n",
    "            \n",
    "    return train_losses_lst\n",
    "\n",
    "\n",
    "def evaluate(eval_model: nn.Module, data_source_: Tensor) -> float:\n",
    "    eval_model.eval() \n",
    "    \n",
    "    total_loss = 0.\n",
    "    src_mask = model.generate_square_subsequent_mask(BPTT).to(DEVICE)\n",
    "    \n",
    "    with torch.no_grad():\n",
    "        for batch_ind in range(0, data_source_.size(0) - 1, BPTT):\n",
    "            data_, targets_ = get_batch(data_source_, batch_ind)\n",
    "            \n",
    "            if data_.size(0) != BPTT:\n",
    "                src_mask = model.generate_square_subsequent_mask(data_.size(0)).to(DEVICE)\n",
    "            \n",
    "            output = model(data_, src_mask)\n",
    "            \n",
    "            # получим распределение logits по выходным токенам \n",
    "            output_flat = output.view(-1, vocab_size)\n",
    "            \n",
    "            valid_loss = criterion(output_flat, targets_).item()\n",
    "            \n",
    "            total_loss += len(data_) * valid_loss\n",
    "    \n",
    "    return total_loss / (len(data_source_) - 1)"
   ]
  },
  {
   "cell_type": "markdown",
   "metadata": {
    "id": "4BPMW4m9QHti"
   },
   "source": [
    "Запускаем тренировку и смотрим, как падает лосс."
   ]
  },
  {
   "cell_type": "code",
   "execution_count": 44,
   "metadata": {
    "collapsed": false,
    "ExecuteTime": {
     "end_time": "2023-11-15T23:03:39.194666Z",
     "start_time": "2023-11-15T23:03:39.188079Z"
    }
   },
   "outputs": [],
   "source": [
    "eval_log_str = \"| end of epoch {:3d} | time: {:5.2f}s | valid loss {:5.2f} | valid ppl {:8.2f}\""
   ]
  },
  {
   "cell_type": "code",
   "execution_count": 45,
   "metadata": {
    "id": "uYLlzbstQHtm",
    "outputId": "2c4ef5e9-9fd5-47ab-c848-af36d689f127",
    "ExecuteTime": {
     "end_time": "2023-11-15T23:03:40.086804Z",
     "start_time": "2023-11-15T23:03:40.081502Z"
    }
   },
   "outputs": [],
   "source": [
    "def train_and_evaluate(model_: nn.Module, train_data_: Tensor, val_data_: Tensor) -> tuple:\n",
    "    best_val_loss = float(\"inf\")\n",
    "    best_model_ = None\n",
    "    \n",
    "    train_losses_, eval_losses_ = [], []\n",
    "    \n",
    "    # подсчитаем значения лосса на валидационной выборке до начала обучения\n",
    "    val_loss = evaluate(model_, val_data_)\n",
    "    \n",
    "    # сохраним первое значение лосса на валидационной подвыборке\n",
    "    eval_losses_ += [val_loss]\n",
    "    \n",
    "    for epoch in range(1, EPOCHS + 1):\n",
    "        epoch_start_time = time.time()\n",
    "        \n",
    "        # запускаем обучения на 1 эпоху\n",
    "        train_losses_ += train(train_data_, epoch)\n",
    "        \n",
    "        # подсчитываем качество на валидационной подвыборке\n",
    "        val_loss = evaluate(model_, val_data_)\n",
    "    \n",
    "        elapsed = time.time() - epoch_start_time\n",
    "        print('-' * 89)\n",
    "        print(eval_log_str.format(epoch, elapsed, val_loss, math.exp(val_loss)))\n",
    "        print('-' * 89)\n",
    "\n",
    "        eval_losses_ += [val_loss]\n",
    "    \n",
    "        if val_loss < best_val_loss:\n",
    "            best_val_loss = val_loss\n",
    "            best_model_ = model_\n",
    "        \n",
    "        scheduler.step()\n",
    "    \n",
    "    return best_model_, train_losses_, eval_losses_"
   ]
  },
  {
   "cell_type": "code",
   "execution_count": 46,
   "metadata": {
    "id": "GoWkFlbfQHtn",
    "outputId": "e48c7fc3-59e2-45ad-b569-c9aff447774b",
    "ExecuteTime": {
     "end_time": "2023-11-15T23:05:30.578335Z",
     "start_time": "2023-11-15T23:03:43.132896Z"
    }
   },
   "outputs": [
    {
     "name": "stderr",
     "output_type": "stream",
     "text": [
      " 39%|███▊      | 509/1321 [00:13<00:20, 40.10it/s]"
     ]
    },
    {
     "name": "stdout",
     "output_type": "stream",
     "text": [
      "| epoch   1 |   500/ 1320 batches | lr 5.00 | ms/batch 25.66 | loss  6.46 | ppl   636.31\n"
     ]
    },
    {
     "name": "stderr",
     "output_type": "stream",
     "text": [
      " 76%|███████▌  | 1007/1321 [00:25<00:07, 40.00it/s]"
     ]
    },
    {
     "name": "stdout",
     "output_type": "stream",
     "text": [
      "| epoch   1 |  1000/ 1320 batches | lr 5.00 | ms/batch 25.16 | loss  5.65 | ppl   284.75\n"
     ]
    },
    {
     "name": "stderr",
     "output_type": "stream",
     "text": [
      "100%|██████████| 1321/1321 [00:33<00:00, 39.40it/s]\n"
     ]
    },
    {
     "name": "stdout",
     "output_type": "stream",
     "text": [
      "-----------------------------------------------------------------------------------------\n",
      "| end of epoch   1 | time: 34.85s | valid loss  5.45 | valid ppl   232.91\n",
      "-----------------------------------------------------------------------------------------\n"
     ]
    },
    {
     "name": "stderr",
     "output_type": "stream",
     "text": [
      " 38%|███▊      | 508/1321 [00:13<00:22, 36.55it/s]"
     ]
    },
    {
     "name": "stdout",
     "output_type": "stream",
     "text": [
      "| epoch   2 |   500/ 1320 batches | lr 4.75 | ms/batch 26.17 | loss  5.36 | ppl   212.01\n"
     ]
    },
    {
     "name": "stderr",
     "output_type": "stream",
     "text": [
      " 76%|███████▋  | 1008/1321 [00:26<00:08, 38.12it/s]"
     ]
    },
    {
     "name": "stdout",
     "output_type": "stream",
     "text": [
      "| epoch   2 |  1000/ 1320 batches | lr 4.75 | ms/batch 26.73 | loss  5.26 | ppl   192.70\n"
     ]
    },
    {
     "name": "stderr",
     "output_type": "stream",
     "text": [
      "100%|██████████| 1321/1321 [00:34<00:00, 38.07it/s]\n"
     ]
    },
    {
     "name": "stdout",
     "output_type": "stream",
     "text": [
      "-----------------------------------------------------------------------------------------\n",
      "| end of epoch   2 | time: 35.88s | valid loss  5.31 | valid ppl   202.60\n",
      "-----------------------------------------------------------------------------------------\n"
     ]
    },
    {
     "name": "stderr",
     "output_type": "stream",
     "text": [
      " 38%|███▊      | 508/1321 [00:12<00:20, 39.97it/s]"
     ]
    },
    {
     "name": "stdout",
     "output_type": "stream",
     "text": [
      "| epoch   3 |   500/ 1320 batches | lr 4.51 | ms/batch 25.37 | loss  5.13 | ppl   169.63\n"
     ]
    },
    {
     "name": "stderr",
     "output_type": "stream",
     "text": [
      " 76%|███████▋  | 1009/1321 [00:25<00:07, 40.16it/s]"
     ]
    },
    {
     "name": "stdout",
     "output_type": "stream",
     "text": [
      "| epoch   3 |  1000/ 1320 batches | lr 4.51 | ms/batch 25.43 | loss  5.08 | ppl   161.31\n"
     ]
    },
    {
     "name": "stderr",
     "output_type": "stream",
     "text": [
      "100%|██████████| 1321/1321 [00:33<00:00, 39.69it/s]\n"
     ]
    },
    {
     "name": "stdout",
     "output_type": "stream",
     "text": [
      "-----------------------------------------------------------------------------------------\n",
      "| end of epoch   3 | time: 34.90s | valid loss  5.25 | valid ppl   191.33\n",
      "-----------------------------------------------------------------------------------------\n"
     ]
    },
    {
     "data": {
      "text/plain": "(3963, 4, 1321.0)"
     },
     "execution_count": 46,
     "metadata": {},
     "output_type": "execute_result"
    }
   ],
   "source": [
    "best_model, train_losses, eval_losses = train_and_evaluate(model, train_data, val_data)\n",
    "\n",
    "len(train_losses), len(eval_losses), len(train_losses) / EPOCHS"
   ]
  },
  {
   "cell_type": "markdown",
   "metadata": {
    "id": "usOj4Bg_QHto"
   },
   "source": [
    "## Plotting results\n",
    "\n",
    "---\n",
    "\n",
    "Так как в `train_losses` хранятся лоссы с каждого батча, то их слишком много для качественной и наглядной визуализации. \n",
    "Построим также сглаженное значение `train_losses` с заданным `SMOOTHING_PERIOD`"
   ]
  },
  {
   "cell_type": "code",
   "execution_count": 47,
   "metadata": {
    "id": "-hTC6UfbQHto",
    "outputId": "e6eeebfb-464c-4ebe-fc50-85bf8d47cc6f",
    "ExecuteTime": {
     "end_time": "2023-11-15T23:06:28.460785Z",
     "start_time": "2023-11-15T23:06:28.349289Z"
    }
   },
   "outputs": [
    {
     "data": {
      "text/plain": "<Figure size 1200x600 with 1 Axes>",
      "image/png": "[encoded data removed]"
     },
     "metadata": {},
     "output_type": "display_data"
    }
   ],
   "source": [
    "SMOOTHING_PERIOD = 500\n",
    "\n",
    "plt.figure(figsize=(12, 6))\n",
    "\n",
    "# строим полученные лоссы с каждого батча обучения\n",
    "plt.plot(train_losses, label=\"train\")\n",
    "\n",
    "# получим сглаженные значения train_losses\n",
    "smoothed = np.convolve(train_losses, np.ones(SMOOTHING_PERIOD) / SMOOTHING_PERIOD)\n",
    "\n",
    "# строим сглаженные лоссы обучения\n",
    "plt.plot(smoothed[SMOOTHING_PERIOD:-SMOOTHING_PERIOD], label=\"train-smoothed\")\n",
    "\n",
    "# строим полученные лоссы с каждой эвалюации\n",
    "plt.plot(len(train_losses) / EPOCHS * np.arange(EPOCHS + 1), eval_losses, label=\"valid\")\n",
    "\n",
    "plt.legend()\n",
    "\n",
    "plt.show()"
   ]
  }
 ],
 "metadata": {
  "colab": {
   "provenance": []
  },
  "kernelspec": {
   "display_name": "Python 3 (ipykernel)",
   "language": "python",
   "name": "python3"
  },
  "language_info": {
   "codemirror_mode": {
    "name": "ipython",
    "version": 3
   },
   "file_extension": ".py",
   "mimetype": "text/x-python",
   "name": "python",
   "nbconvert_exporter": "python",
   "pygments_lexer": "ipython3",
   "version": "3.11.6"
  }
 },
 "nbformat": 4,
 "nbformat_minor": 4
}
