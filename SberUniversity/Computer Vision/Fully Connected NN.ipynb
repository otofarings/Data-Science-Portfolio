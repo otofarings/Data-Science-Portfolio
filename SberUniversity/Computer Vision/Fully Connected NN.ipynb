{
 "cells": [
  {
   "cell_type": "markdown",
   "metadata": {
    "id": "t5yAXr0WZK1L"
   },
   "source": [
    "<h3 style=\"text-align: center;\"><b>Fashion MNIST</b></h3>\n",
    "\n",
    "---\n",
    "\n",
    "<img src=\"https://emiliendupont.github.io/imgs/mnist-chicken/mnist-and-fashion-examples.png\">\n",
    "\n",
    "Мы будем работать с картинками одежды (чёрно-белыми, 28 на 28). По входной картинке нужно предсказать тип одежды на 10 классов."
   ]
  },
  {
   "cell_type": "markdown",
   "source": [
    "# Import Libraries\n",
    "\n",
    "---"
   ],
   "metadata": {
    "collapsed": false
   }
  },
  {
   "cell_type": "code",
   "execution_count": null,
   "metadata": {
    "colab": {
     "base_uri": "https://localhost:8080/"
    },
    "id": "czUjp5h-SDfg",
    "outputId": "3ada0aab-f8bc-4dbe-a3c9-c448aae96356"
   },
   "outputs": [
    {
     "name": "stdout",
     "output_type": "stream",
     "text": [
      "\u001B[2K     \u001B[90m━━━━━━━━━━━━━━━━━━━━━━━━━━━━━━━━━━━━━━━━\u001B[0m \u001B[32m2.0/2.0 MB\u001B[0m \u001B[31m29.8 MB/s\u001B[0m eta \u001B[36m0:00:00\u001B[0m\n",
      "\u001B[2K     \u001B[90m━━━━━━━━━━━━━━━━━━━━━━━━━━━━━━━━━━━━━━\u001B[0m \u001B[32m177.4/177.4 KB\u001B[0m \u001B[31m14.1 MB/s\u001B[0m eta \u001B[36m0:00:00\u001B[0m\n",
      "\u001B[2K     \u001B[90m━━━━━━━━━━━━━━━━━━━━━━━━━━━━━━━━━━━━━━\u001B[0m \u001B[32m184.0/184.0 KB\u001B[0m \u001B[31m14.4 MB/s\u001B[0m eta \u001B[36m0:00:00\u001B[0m\n",
      "\u001B[?25h  Preparing metadata (setup.py) ... \u001B[?25l\u001B[?25hdone\n",
      "\u001B[2K     \u001B[90m━━━━━━━━━━━━━━━━━━━━━━━━━━━━━━━━━━━━━━━━\u001B[0m \u001B[32m62.7/62.7 KB\u001B[0m \u001B[31m5.5 MB/s\u001B[0m eta \u001B[36m0:00:00\u001B[0m\n",
      "\u001B[2K     \u001B[90m━━━━━━━━━━━━━━━━━━━━━━━━━━━━━━━━━━━━━━\u001B[0m \u001B[32m140.6/140.6 KB\u001B[0m \u001B[31m16.6 MB/s\u001B[0m eta \u001B[36m0:00:00\u001B[0m\n",
      "\u001B[?25h  Building wheel for pathtools (setup.py) ... \u001B[?25l\u001B[?25hdone\n"
     ]
    }
   ],
   "source": [
    "# установим последнюю версию wandb\n",
    "# !pip install -q --upgrade wandb"
   ]
  },
  {
   "cell_type": "code",
   "execution_count": 1,
   "metadata": {
    "id": "fWtwdJBETKgd"
   },
   "outputs": [],
   "source": [
    "from collections import OrderedDict\n",
    "import os\n",
    "import random\n",
    "\n",
    "import pandas as pd\n",
    "import numpy as np\n",
    "\n",
    "import torch\n",
    "import torch.nn as nn\n",
    "import torch.nn.functional as F\n",
    "import torch.optim as optim # для оптимизаторов\n",
    "from torch.utils.data import DataLoader\n",
    "from torchvision import datasets # для данных\n",
    "import torchvision.transforms as transforms # для преобразований тензоров\n",
    "\n",
    "import seaborn as sns\n",
    "import matplotlib.pyplot as plt\n",
    "\n",
    "import wandb # для логирования\n",
    "\n",
    "from tqdm import *\n",
    "\n",
    "%matplotlib inline"
   ]
  },
  {
   "cell_type": "markdown",
   "source": [
    "# Options\n",
    "\n",
    "---\n",
    "\n",
    "Зафиксируем seed для воспроизводимости:"
   ],
   "metadata": {
    "collapsed": false
   }
  },
  {
   "cell_type": "code",
   "execution_count": 2,
   "metadata": {
    "id": "act8OGimTclJ",
    "ExecuteTime": {
     "end_time": "2023-11-05T20:28:03.231030Z",
     "start_time": "2023-11-05T20:28:03.224967Z"
    }
   },
   "outputs": [],
   "source": [
    "def seed_everything(seed: int) -> None:\n",
    "    random.seed(seed)\n",
    "    os.environ[\"PYTHONHASHSEED\"] = str(seed)\n",
    "    np.random.seed(seed)\n",
    "    torch.manual_seed(seed)\n",
    "    torch.cuda.manual_seed_all(seed)\n",
    "    torch.mps.manual_seed(seed)\n"
   ]
  },
  {
   "cell_type": "markdown",
   "metadata": {
    "id": "4Homy1Hda0y_"
   },
   "source": [
    "Задаем параметры нашего эксперимента:"
   ]
  },
  {
   "cell_type": "code",
   "execution_count": 5,
   "metadata": {
    "id": "X_ltN5rHTgMe"
   },
   "outputs": [],
   "source": [
    "class CFG:\n",
    "  api = \"...\"\n",
    "  project = \"FashionMNIST\"\n",
    "  entity = \"...\"\n",
    "  num_epochs = 10\n",
    "  train_batch_size = 64\n",
    "  test_batch_size = 512\n",
    "  # num_workers = -1  # multiprocessing.cpu_count()\n",
    "  lr = 0.01\n",
    "  seed = 2023\n",
    "  classes = 10\n",
    "  wandb = False"
   ]
  },
  {
   "cell_type": "markdown",
   "source": [
    "Функция перевода класса конфигурации в словарь:"
   ],
   "metadata": {
    "collapsed": false
   }
  },
  {
   "cell_type": "code",
   "execution_count": 4,
   "metadata": {
    "id": "xnrD-0AQUpHi"
   },
   "outputs": [],
   "source": [
    "def class2dict(f_):\n",
    "  return dict((name, getattr(f_, name)) for name in dir(f_) if not name.startswith('__'))"
   ]
  },
  {
   "cell_type": "markdown",
   "metadata": {
    "id": "JNdiWxT1a836"
   },
   "source": [
    "Среднее и стандартное отклонение необходимо посмотреть на официальной страничке датасета [ссылка](https://boscoj2008.github.io/customCNN/)."
   ]
  },
  {
   "cell_type": "markdown",
   "metadata": {
    "id": "-TtjNYSee01i"
   },
   "source": [
    "# Load data\n",
    "\n",
    "---"
   ]
  },
  {
   "cell_type": "code",
   "execution_count": 6,
   "metadata": {
    "colab": {
     "base_uri": "https://localhost:8080/",
     "height": 486,
     "referenced_widgets": [
      "1404586577064ac39c3aca60bc22fdfa",
      "f4353bdca8a84c4cb856a70fb457cb0c",
      "3423293a5e9240a6b06035c4ce1e39e3",
      "53740d0f8ff84d3eaaa47805d29fc185",
      "9502536b161c45f89f0e6dfbac6eede1",
      "afbec42e54fa4012aba3f8053e04dadc",
      "fc8420962cc34f0faebd0d2e4cf83cee",
      "410192f78d3e46bbb8762c35787bf13d",
      "13008e863cfd4a7bb37104a43929c2ec",
      "5eb52c56c3334ac3915aee8616ddedb1",
      "24f3de27786a4c0a96211e98f3f6de21",
      "ad6d1b93d429496abbd7121a4f0b9de6",
      "5d0549499a664bafaf871b0583cd92ca",
      "68fd6008d04e407ea63b2e26fd708d74",
      "847a03d3f0944e65bd3a80a2d1397556",
      "682f74c03e704a08bcd65a497b27765c",
      "6278e2dcc4624374b57a9dc6f8202fa7",
      "66d50b2a1af242e39aa10ee608c14e96",
      "96908fea4073438ab43fddf2e179d57a",
      "c02ffb68b2f54551a7fbd76a3db63ff5",
      "a226aab6a5e14cdeab04c2035cba4067",
      "4981f159d57b45e28ac87127ec93196e",
      "260271b63a2645bfb94690b666a01bc5",
      "f40d574c77b7409495554a60923951d9",
      "ed41341c970c46508970a4edd6846b79",
      "0b0712703cbf4a7084fd2a3cc6af50e7",
      "6d126ed06f1040d784b18b3c8e9cb22d",
      "c3788ca193df4dfab201a225e2b13543",
      "9b6630c18a9e4012b2edbea6a36a8bed",
      "078b58bc74ae462089b5f6f14e7b214a",
      "cad6583d2cfa4456af83644efb902d32",
      "04f3207505394d6a84b619ffeb553c16",
      "2a13e0a9c74346259c543798303bb0bd",
      "f0a4baaaaf4540eba29c36c63f4078ab",
      "b3c299a1f1e04909bbb63b6148551758",
      "a34172bcfa7446139937b71993f636b4",
      "54160fd1c6b64563a9702f5cb01a1e61",
      "c1dc10497897440fa28ab38fb2569303",
      "4f32f08573be44b5901cf1753065c4fe",
      "65fc1f331b6244de96070e8922b2ec56",
      "b20bf379eb784906a7fbcc82d3ca2734",
      "03c69a7a5d12421f9aa500c07e3da3de",
      "781d551e0abd476c9f39a5bb56a2eca3",
      "0ffb5b37baec47378e6a3bc8de48637d"
     ]
    },
    "id": "M8O3KPn-VCK4",
    "outputId": "75824194-c2b7-4d2e-bdb5-a8dea72358c2"
   },
   "outputs": [],
   "source": [
    "def create_data_loaders() -> tuple:\n",
    "    # будем загружать картинки, сразу преобразуя их в тензор и нормализуя\n",
    "    transform = transforms.Compose([transforms.ToTensor(), transforms.Normalize((0.2859,), (0.3530,))])\n",
    "\n",
    "    train_data_ = datasets.FashionMNIST(\n",
    "        root=\"data\", \n",
    "        train=True,\n",
    "        download=True, \n",
    "        transform=transform\n",
    "    )\n",
    "    test_data_ = datasets.FashionMNIST(\n",
    "        root=\"data\", \n",
    "        train=False,\n",
    "        download=True, \n",
    "        transform=transform\n",
    "    )\n",
    "\n",
    "    train_loader_ = DataLoader(\n",
    "        train_data_,\n",
    "        batch_size=CFG.train_batch_size,\n",
    "        shuffle=True,\n",
    "        pin_memory=True\n",
    "    )\n",
    "    test_loader_ = DataLoader(\n",
    "        test_data_,\n",
    "        batch_size=CFG.test_batch_size,\n",
    "        shuffle=True,\n",
    "        pin_memory=True\n",
    "    )\n",
    "    return train_loader_, test_loader_\n",
    "\n",
    "\n",
    "train_loader, test_loader = create_data_loaders()"
   ]
  },
  {
   "cell_type": "markdown",
   "source": [
    "Отрисуем несколько картинок:"
   ],
   "metadata": {
    "collapsed": false
   }
  },
  {
   "cell_type": "code",
   "execution_count": 7,
   "metadata": {
    "colab": {
     "base_uri": "https://localhost:8080/",
     "height": 209
    },
    "id": "piyI6eoTWpUu",
    "outputId": "d013edbd-3847-461f-9866-06ed7e79f6f7"
   },
   "outputs": [
    {
     "data": {
      "image/png": "[encoded data removed]",
      "text/plain": [
       "<Figure size 2500x400 with 16 Axes>"
      ]
     },
     "metadata": {},
     "output_type": "display_data"
    }
   ],
   "source": [
    "dataiter = iter(train_loader)\n",
    "images, labels = next(dataiter)\n",
    "images = images.numpy()\n",
    "\n",
    "fig = plt.figure(figsize=(25, 4))\n",
    "for idx in np.arange(16):\n",
    "    fig.add_subplot(2, 8, idx + 1, xticks=[], yticks=[])\n",
    "    plt.imshow(np.squeeze(images[idx]), cmap=\"gray\")\n",
    "    plt.tight_layout()\n",
    "plt.show()"
   ]
  },
  {
   "cell_type": "markdown",
   "source": [
    "# Fully connected neural network\n",
    "\n",
    "---\n",
    "\n",
    "Создаем полносвязаннную нейронную сеть:"
   ],
   "metadata": {
    "collapsed": false
   }
  },
  {
   "cell_type": "code",
   "execution_count": 8,
   "metadata": {
    "id": "CPxbrZdqWq7G"
   },
   "outputs": [],
   "source": [
    "class My_Net(nn.Module):\n",
    "    def __init__(self) -> None:\n",
    "        super(My_Net, self).__init__()\n",
    "\n",
    "        self.pic_size = 28 * 28\n",
    "        hidden_1 = 256\n",
    "        hidden_2 = 128\n",
    "\n",
    "        self.net = nn.Sequential(OrderedDict([\n",
    "            (\"linear_1\", nn.Linear(self.pic_size, hidden_1)),\n",
    "            (\"relu_1\", nn.ReLU()),\n",
    "            (\"linear_2\", nn.Linear(hidden_1, hidden_2)),\n",
    "            (\"relu_2\", nn.ReLU()),\n",
    "            (\"linear_3\", nn.Linear(hidden_2, CFG.classes)),\n",
    "            (\"log_softmax\", nn.LogSoftmax(dim=1))\n",
    "        ]))\n",
    "\n",
    "    def forward(self, x_: torch.Tensor) -> torch.Tensor:\n",
    "        return self.net(x_.view(-1, self.pic_size))"
   ]
  },
  {
   "cell_type": "code",
   "execution_count": 9,
   "metadata": {},
   "outputs": [],
   "source": [
    "def get_current_device() -> torch.device:\n",
    "    device_ = torch.device(\"mps\" if torch.backends.mps.is_available() else (\"cuda\" if torch.cuda.is_available() else \"cpu\"))\n",
    "    print(\"device: \", device_)\n",
    "    return device_"
   ]
  },
  {
   "cell_type": "markdown",
   "source": [
    "Посмотрим на нашу модель:"
   ],
   "metadata": {
    "collapsed": false
   }
  },
  {
   "cell_type": "code",
   "execution_count": 10,
   "metadata": {
    "colab": {
     "base_uri": "https://localhost:8080/"
    },
    "id": "z6Xd4VKcW2DA",
    "outputId": "c9e9c1e5-80f3-4ea2-a518-fdba94e32562"
   },
   "outputs": [
    {
     "name": "stdout",
     "output_type": "stream",
     "text": [
      "device:  mps\n",
      "My_Net(\n",
      "  (net): Sequential(\n",
      "    (linear_1): Linear(in_features=784, out_features=256, bias=True)\n",
      "    (relu_1): ReLU()\n",
      "    (linear_2): Linear(in_features=256, out_features=128, bias=True)\n",
      "    (relu_2): ReLU()\n",
      "    (linear_3): Linear(in_features=128, out_features=10, bias=True)\n",
      "    (log_softmax): LogSoftmax(dim=1)\n",
      "  )\n",
      ")\n"
     ]
    }
   ],
   "source": [
    "model = My_Net()\n",
    "model.to(get_current_device())\n",
    "print(model)"
   ]
  },
  {
   "cell_type": "code",
   "execution_count": 11,
   "metadata": {
    "id": "7atYx0-FW5-K"
   },
   "outputs": [],
   "source": [
    "# функция потерь (cross-entropy) для 10 классов\n",
    "criterion = nn.CrossEntropyLoss()\n",
    "\n",
    "# SGD (классический) со скоростью обучения (learning rate)\n",
    "optimizer = torch.optim.Adam(model.parameters(), lr=CFG.lr)"
   ]
  },
  {
   "cell_type": "markdown",
   "source": [
    "## Visualize results\n",
    "\n",
    "---\n",
    "\n",
    "Функция для отображения картинки и предсказания модели:"
   ],
   "metadata": {
    "collapsed": false
   }
  },
  {
   "cell_type": "code",
   "execution_count": 134,
   "metadata": {},
   "outputs": [],
   "source": [
    "def view_classify(img, ps):\n",
    "    obj_names = [\n",
    "        \"T-shirt/top\", \"Trouser\", \"Pullover\", \"Dress\", \"Coat\",\n",
    "        \"Sandal\", \"Shirt\", \"Sneaker\", \"Bag\", \"Ankle boot\"\n",
    "    ]\n",
    "    \n",
    "    img_ = img.cpu()\n",
    "    ps = ps.data.cpu().numpy().squeeze()\n",
    "    _, (ax1, ax2) = plt.subplots(figsize=(6, 9), ncols=2)\n",
    "\n",
    "    ax1.imshow(img_.resize_(1, 28, 28).numpy().squeeze())\n",
    "    ax1.axis(\"off\")\n",
    "\n",
    "    ax2.barh(np.arange(10), ps)\n",
    "    ax2.set_aspect(0.1)\n",
    "    ax2.set_yticks(np.arange(10))\n",
    "    ax2.set_yticklabels(obj_names, size=\"small\")\n",
    "    ax2.set_title(\"Class Probability\")\n",
    "    ax2.set_xlim(0, 1.1)\n",
    "\n",
    "    plt.tight_layout()\n",
    "    plt.show()"
   ]
  },
  {
   "cell_type": "markdown",
   "source": [
    "## Train loop\n",
    "\n",
    "---\n",
    "\n",
    "Функция обучения модели:"
   ],
   "metadata": {
    "collapsed": false
   }
  },
  {
   "cell_type": "code",
   "execution_count": 135,
   "metadata": {
    "id": "5ow_sFgBW8bm"
   },
   "outputs": [],
   "source": [
    "def train(model_: My_Net, device_: torch.device, train_loader_, optimizer_, criterion_, WANDB) -> None:\n",
    "    # обязательно переводим в режим обучения\n",
    "    model_.train()\n",
    "    \n",
    "    train_loss = 0\n",
    "    correct = 0\n",
    "    \n",
    "    for batch_idx, (data, target) in tqdm(enumerate(train_loader_), total=len(train_loader_)):\n",
    "        # переводим картинки и таргеты на GPU\n",
    "        data, target = data.to(device_), target.to(device_)\n",
    "\n",
    "        # обнуляем градиенты!\n",
    "        optimizer_.zero_grad()\n",
    "\n",
    "        # прямой проход\n",
    "        output = model_.forward(data)\n",
    "        pred = output.argmax(dim=1, keepdim=True)\n",
    "\n",
    "        # определяем корректность предсказания\n",
    "        correct += pred.eq(target.view_as(pred)).sum().item()\n",
    "\n",
    "        # считаем значение функции потерь\n",
    "        train_loss = criterion_(output, target)\n",
    "\n",
    "        # обратный проход\n",
    "        train_loss.backward()\n",
    "\n",
    "        # делаем градиентный шаг оптимизатором\n",
    "        optimizer_.step()\n",
    "\n",
    "    # считаем метрики и лосс\n",
    "    tqdm.write(\"\\nTrain set: Average loss: {:.4f}, Accuracy: {:.0f}%\".format(\n",
    "        train_loss, 100. * correct / len(train_loader_.dataset)))\n",
    "\n",
    "    if WANDB:\n",
    "        wandb.log({\n",
    "            \"train_loss\": train_loss,\n",
    "            \"train_accuracy\": correct / len(train_loader_.dataset)\n",
    "        })"
   ]
  },
  {
   "cell_type": "markdown",
   "source": [
    "## Realization of predict and calculate accuracy\n",
    "\n",
    "---\n",
    "\n",
    "Функция тестирования модели:"
   ],
   "metadata": {
    "collapsed": false
   }
  },
  {
   "cell_type": "code",
   "execution_count": 136,
   "metadata": {
    "id": "sxMjlNRZXAW8"
   },
   "outputs": [],
   "source": [
    "def test(model_: My_Net, device_: torch.device, test_loader_, criterion_, WANDB) -> None:\n",
    "    # переводем модель в режим инференса\n",
    "    model_.eval()\n",
    "\n",
    "    test_loss = 0\n",
    "    correct = 0\n",
    "    \n",
    "    # показываем, что обученич нет и градиенты не обновляются\n",
    "    with torch.no_grad():\n",
    "        for data, target in test_loader_:\n",
    "            data, target = data.to(device_), target.to(device_)\n",
    "            output = model_(data)\n",
    "\n",
    "            # считаем значение функции потерь\n",
    "            test_loss = criterion_(output, target)\n",
    "            pred = output.argmax(dim=1, keepdim=True)\n",
    "            correct += pred.eq(target.view_as(pred)).sum().item()\n",
    "        \n",
    "            view_classify(data[0].view(1, 28, 28), F.softmax(output[0], dim=0))\n",
    "    \n",
    "    tqdm.write(\"Test set: Average loss: {:.4f}, Accuracy: {:.0f}%\".format(\n",
    "        test_loss, 100. * correct / len(test_loader_.dataset)))\n",
    "\n",
    "    if WANDB:\n",
    "        wandb.log({\n",
    "            \"test_loss\": test_loss,\n",
    "            \"test_accuracy\": correct / len(test_loader_.dataset)\n",
    "        })"
   ]
  },
  {
   "cell_type": "markdown",
   "source": [
    "Основная функция для экспериментов:"
   ],
   "metadata": {
    "collapsed": false
   }
  },
  {
   "cell_type": "code",
   "execution_count": 137,
   "metadata": {
    "id": "wOHQ0Wt9XFEh"
   },
   "outputs": [],
   "source": [
    "def main(model_, optimizer_, train_loader_, test_loader_, criterion_) -> None:\n",
    "    seed_everything(CFG.seed)\n",
    "\n",
    "    device = get_current_device()\n",
    "    \n",
    "    if CFG.wandb:\n",
    "        os.environ[\"WANDB_API_KEY\"] = CFG.api\n",
    "        wandb.init(\n",
    "            project=CFG.project, \n",
    "            entity=CFG.entity, \n",
    "            reinit=True, \n",
    "            config=class2dict(CFG)\n",
    "        )\n",
    "        wandb.watch(model_, log=\"all\")\n",
    "    \n",
    "    print(\"\\nTraining start!\")\n",
    "    for epoch in range(1, CFG.num_epochs + 1):\n",
    "        print(\"\\nEpoch:\", epoch)\n",
    "        train(model_, device, train_loader_, optimizer_, criterion_, CFG.wandb)\n",
    "        test(model_, device, test_loader_, criterion_, CFG.wandb)\n",
    "\n",
    "    print(\"\\nTraining end!\")"
   ]
  },
  {
   "cell_type": "code",
   "execution_count": null,
   "metadata": {
    "colab": {
     "base_uri": "https://localhost:8080/"
    },
    "id": "ddOOVyDhXJlH",
    "outputId": "79241dc8-cd53-48c1-c0eb-633f1566ca3c"
   },
   "outputs": [
    {
     "name": "stdout",
     "output_type": "stream",
     "text": [
      "Wed Jan 18 00:58:58 2023       \n",
      "+-----------------------------------------------------------------------------+\n",
      "| NVIDIA-SMI 460.32.03    Driver Version: 460.32.03    CUDA Version: 11.2     |\n",
      "|-------------------------------+----------------------+----------------------+\n",
      "| GPU  Name        Persistence-M| Bus-Id        Disp.A | Volatile Uncorr. ECC |\n",
      "| Fan  Temp  Perf  Pwr:Usage/Cap|         Memory-Usage | GPU-Util  Compute M. |\n",
      "|                               |                      |               MIG M. |\n",
      "|===============================+======================+======================|\n",
      "|   0  Tesla T4            Off  | 00000000:00:04.0 Off |                    0 |\n",
      "| N/A   74C    P0    34W /  70W |    574MiB / 15109MiB |      0%      Default |\n",
      "|                               |                      |                  N/A |\n",
      "+-------------------------------+----------------------+----------------------+\n",
      "                                                                               \n",
      "+-----------------------------------------------------------------------------+\n",
      "| Processes:                                                                  |\n",
      "|  GPU   GI   CI        PID   Type   Process name                  GPU Memory |\n",
      "|        ID   ID                                                   Usage      |\n",
      "|=============================================================================|\n",
      "+-----------------------------------------------------------------------------+\n"
     ]
    }
   ],
   "source": [
    "# if device.type == \"cuda\":\n",
    "    # gpu_info = !nvidia-smi\n",
    "    # gpu_info = '\\n'.join(gpu_info)\n",
    "    # print(gpu_info)"
   ]
  },
  {
   "cell_type": "markdown",
   "metadata": {
    "id": "BWz5hylffowH"
   },
   "source": [
    "Запускаем обучение. Цель - получить на тесте значение accuracy не менее 98%."
   ]
  },
  {
   "cell_type": "code",
   "execution_count": null,
   "metadata": {
    "colab": {
     "base_uri": "https://localhost:8080/",
     "height": 478
    },
    "id": "GUnN4kneXL1E",
    "outputId": "6165d6d2-54f4-44b3-ce8f-6ad9087e1008"
   },
   "outputs": [],
   "source": [
    "main(model, optimizer, train_loader, test_loader, criterion)"
   ]
  },
  {
   "cell_type": "markdown",
   "metadata": {},
   "source": [
    "Можем заметить основную проблему, а именно то, что сеть обращает слишком много внимания на детали и не умеет выделять общие признаки."
   ]
  },
  {
   "cell_type": "markdown",
   "source": [
    "## Test different activation functions\n",
    "\n",
    "---\n",
    "\n",
    "Пробуем другие оптимизаторы:"
   ],
   "metadata": {
    "collapsed": false
   }
  },
  {
   "cell_type": "code",
   "execution_count": null,
   "metadata": {},
   "outputs": [],
   "source": [
    "optimizers_lst = [\n",
    "    torch.optim.Adagrad,\n",
    "    torch.optim.Adadelta,\n",
    "    torch.optim.Adam,\n",
    "    torch.optim.AdamW,\n",
    "    torch.optim.SparseAdam,\n",
    "    torch.optim.Adamax,\n",
    "    torch.optim.ASGD,\n",
    "    # torch.optim.LBFGS,\n",
    "    torch.optim.NAdam,\n",
    "    torch.optim.RAdam,\n",
    "    torch.optim.RMSprop,\n",
    "    torch.optim.Rprop,\n",
    "    torch.optim.SGD\n",
    "]\n",
    "\n",
    "for opt in optimizers_lst:\n",
    "    model = My_Net()\n",
    "    model.to(get_current_device())\n",
    "    optimizer = opt(model.parameters(), lr=CFG.lr)\n",
    "    print(\"-\" * 50)\n",
    "    print(\"\\n\", opt.__name__)\n",
    "    train_loader, test_loader = create_data_loaders()\n",
    "    try:\n",
    "        main(model, optimizer, train_loader, test_loader, nn.CrossEntropyLoss())\n",
    "    except Exception as e:\n",
    "        print(\"Возникла ошибка:\", e)\n",
    "        print(\"Пропускаем оптимизатор\", opt.__name__)\n",
    "    print(\"\\n\" + \"-\" * 50)\n"
   ]
  },
  {
   "cell_type": "markdown",
   "metadata": {},
   "source": [
    "Результаты сравниваем в таблице."
   ]
  },
  {
   "cell_type": "code",
   "execution_count": 67,
   "metadata": {},
   "outputs": [
    {
     "data": {
      "text/html": [
       "<div>\n",
       "<style scoped>\n",
       "    .dataframe tbody tr th:only-of-type {\n",
       "        vertical-align: middle;\n",
       "    }\n",
       "\n",
       "    .dataframe tbody tr th {\n",
       "        vertical-align: top;\n",
       "    }\n",
       "\n",
       "    .dataframe thead th {\n",
       "        text-align: right;\n",
       "    }\n",
       "</style>\n",
       "<table border=\"1\" class=\"dataframe\">\n",
       "  <thead>\n",
       "    <tr style=\"text-align: right;\">\n",
       "      <th></th>\n",
       "      <th>Epoch</th>\n",
       "      <th>Type</th>\n",
       "      <th>Metric</th>\n",
       "      <th>Algorithm</th>\n",
       "      <th>Value</th>\n",
       "    </tr>\n",
       "  </thead>\n",
       "  <tbody>\n",
       "    <tr>\n",
       "      <th>0</th>\n",
       "      <td>1</td>\n",
       "      <td>Train set</td>\n",
       "      <td>Average loss</td>\n",
       "      <td>Adagrad</td>\n",
       "      <td>0.3129</td>\n",
       "    </tr>\n",
       "    <tr>\n",
       "      <th>1</th>\n",
       "      <td>1</td>\n",
       "      <td>Train set</td>\n",
       "      <td>Accuracy</td>\n",
       "      <td>Adagrad</td>\n",
       "      <td>83.0000</td>\n",
       "    </tr>\n",
       "    <tr>\n",
       "      <th>2</th>\n",
       "      <td>1</td>\n",
       "      <td>Test set</td>\n",
       "      <td>Average loss</td>\n",
       "      <td>Adagrad</td>\n",
       "      <td>0.3200</td>\n",
       "    </tr>\n",
       "    <tr>\n",
       "      <th>3</th>\n",
       "      <td>1</td>\n",
       "      <td>Test set</td>\n",
       "      <td>Accuracy</td>\n",
       "      <td>Adagrad</td>\n",
       "      <td>86.0000</td>\n",
       "    </tr>\n",
       "    <tr>\n",
       "      <th>4</th>\n",
       "      <td>2</td>\n",
       "      <td>Train set</td>\n",
       "      <td>Average loss</td>\n",
       "      <td>Adagrad</td>\n",
       "      <td>0.2753</td>\n",
       "    </tr>\n",
       "    <tr>\n",
       "      <th>...</th>\n",
       "      <td>...</td>\n",
       "      <td>...</td>\n",
       "      <td>...</td>\n",
       "      <td>...</td>\n",
       "      <td>...</td>\n",
       "    </tr>\n",
       "    <tr>\n",
       "      <th>1315</th>\n",
       "      <td>29</td>\n",
       "      <td>Test set</td>\n",
       "      <td>Accuracy</td>\n",
       "      <td>SGD</td>\n",
       "      <td>88.0000</td>\n",
       "    </tr>\n",
       "    <tr>\n",
       "      <th>1316</th>\n",
       "      <td>30</td>\n",
       "      <td>Train set</td>\n",
       "      <td>Average loss</td>\n",
       "      <td>SGD</td>\n",
       "      <td>0.3228</td>\n",
       "    </tr>\n",
       "    <tr>\n",
       "      <th>1317</th>\n",
       "      <td>30</td>\n",
       "      <td>Train set</td>\n",
       "      <td>Accuracy</td>\n",
       "      <td>SGD</td>\n",
       "      <td>92.0000</td>\n",
       "    </tr>\n",
       "    <tr>\n",
       "      <th>1318</th>\n",
       "      <td>30</td>\n",
       "      <td>Test set</td>\n",
       "      <td>Average loss</td>\n",
       "      <td>SGD</td>\n",
       "      <td>0.3099</td>\n",
       "    </tr>\n",
       "    <tr>\n",
       "      <th>1319</th>\n",
       "      <td>30</td>\n",
       "      <td>Test set</td>\n",
       "      <td>Accuracy</td>\n",
       "      <td>SGD</td>\n",
       "      <td>88.0000</td>\n",
       "    </tr>\n",
       "  </tbody>\n",
       "</table>\n",
       "<p>1320 rows × 5 columns</p>\n",
       "</div>"
      ],
      "text/plain": [
       "      Epoch       Type        Metric Algorithm    Value\n",
       "0         1  Train set  Average loss   Adagrad   0.3129\n",
       "1         1  Train set      Accuracy   Adagrad  83.0000\n",
       "2         1   Test set  Average loss   Adagrad   0.3200\n",
       "3         1   Test set      Accuracy   Adagrad  86.0000\n",
       "4         2  Train set  Average loss   Adagrad   0.2753\n",
       "...     ...        ...           ...       ...      ...\n",
       "1315     29   Test set      Accuracy       SGD  88.0000\n",
       "1316     30  Train set  Average loss       SGD   0.3228\n",
       "1317     30  Train set      Accuracy       SGD  92.0000\n",
       "1318     30   Test set  Average loss       SGD   0.3099\n",
       "1319     30   Test set      Accuracy       SGD  88.0000\n",
       "\n",
       "[1320 rows x 5 columns]"
      ]
     },
     "execution_count": 67,
     "metadata": {},
     "output_type": "execute_result"
    }
   ],
   "source": [
    "df = pd.read_csv(\"data/results.csv\")\n",
    "df.Epoch = df.Epoch.astype(int)\n",
    "df"
   ]
  },
  {
   "cell_type": "code",
   "execution_count": 88,
   "metadata": {},
   "outputs": [
    {
     "data": {
      "image/png": "[encoded data removed]",
      "text/plain": [
       "<Figure size 1500x1000 with 1 Axes>"
      ]
     },
     "metadata": {},
     "output_type": "display_data"
    }
   ],
   "source": [
    "def plot_results(df_: pd.DataFrame) -> None:\n",
    "    plt.figure(figsize=(15, 10))\n",
    "    plt.title(\"Results\")\n",
    "    sns.lineplot(\n",
    "        data=df_, \n",
    "        x=\"Epoch\", \n",
    "        y=\"Value\", \n",
    "        hue=\"Algorithm\", \n",
    "        style=\"Metric\", \n",
    "        markers=True, \n",
    "        dashes=False,\n",
    "        palette=\"rainbow\",\n",
    "        alpha=0.4,\n",
    "        legend=\"full\"\n",
    "    )\n",
    "    plt.show()\n",
    "\n",
    "plot_results(df[(df.Metric == \"Accuracy\") & (df.Type == \"Train set\")])"
   ]
  },
  {
   "cell_type": "code",
   "execution_count": 87,
   "metadata": {},
   "outputs": [
    {
     "data": {
      "image/png": "[encoded data removed]",
      "text/plain": [
       "<Figure size 1500x1000 with 1 Axes>"
      ]
     },
     "metadata": {},
     "output_type": "display_data"
    }
   ],
   "source": [
    "plot_results(df[(df.Metric == \"Accuracy\") & (df.Type == \"Test set\")])"
   ]
  },
  {
   "cell_type": "markdown",
   "metadata": {},
   "source": [
    "По показателям accuracy и скорости сходимости определяем лучший оптимизатор.\n",
    "\n",
    "1. По Accuracy лучший оптимизатор - Adagrad. Он 2 раза показал лучший результат на тестовой выборке. И единственный, кто на тренировочной выборке показал результат выше 95%. Рядом с ним идет Adamax, который показал результат 95% на тренировочной выборке. И даже 1 раз лучший результат на тестовой выборке. В среднем результаты очень похожи на Adagrad. На третье место можно поставить Rprop. Все остальные оптимизаторы показали результаты хуже 95% на обеих выборках.\n",
    "2. По скорости сходимости в лидерах Adamax и Adagrad. Adagrad впервые достиг 90% на тестовой выборке на 16 эпохе. Adamax и Adagrad вместе достигли 90% на 24 эпохе.\n",
    "\n",
    "Данный результат действителен для learning_rate = 0.01. При изменении learning_rate результаты могут измениться."
   ]
  },
  {
   "cell_type": "markdown",
   "metadata": {
    "id": "gQtYBN6QfaD0"
   },
   "source": [
    "Пробуем добавить еще пару слоев:"
   ]
  },
  {
   "cell_type": "code",
   "execution_count": 12,
   "metadata": {
    "id": "_GL8CKOjXN7F"
   },
   "outputs": [],
   "source": [
    "class FCNet(nn.Module):\n",
    "    def __init__(self) -> None:\n",
    "        super(FCNet, self).__init__()\n",
    "\n",
    "        self.pic_size = 28 * 28\n",
    "        hidden_1 = self.pic_size // 2\n",
    "        hidden_2 = hidden_1 // 2\n",
    "        hidden_3 = hidden_2 // 2\n",
    "\n",
    "        layers = [\n",
    "            (\"linear_1\", nn.Linear(self.pic_size, hidden_1)),\n",
    "            (\"relu_1\", nn.ReLU()),\n",
    "            (\"linear_2\", nn.Linear(hidden_1, hidden_2)),\n",
    "            (\"relu_2\", nn.ReLU()),\n",
    "            (\"linear_3\", nn.Linear(hidden_2, hidden_3)),\n",
    "            (\"relu_3\", nn.ReLU()),\n",
    "            (\"linear_4\", nn.Linear(hidden_3, CFG.classes)),\n",
    "            (\"log_softmax\", nn.LogSoftmax(dim=1))\n",
    "        ]\n",
    "        self.net = nn.Sequential(OrderedDict(layers))\n",
    "\n",
    "    def forward(self, x_: torch.Tensor) -> torch.Tensor:\n",
    "        return self.net(x_.view(-1, self.pic_size))\n",
    "\n",
    "\n",
    "class NetLearning():\n",
    "    def __init__(self, model_: FCNet, optimizer_: torch.optim) -> None:\n",
    "        self.model = model_\n",
    "\n",
    "        self.device = get_current_device()\n",
    "        self.model.to(self.device)\n",
    "\n",
    "        print(\"\\n\", optimizer_.__name__)\n",
    "        self.optimizer = optimizer_(self.model.parameters(), lr=CFG.lr)\n",
    "\n",
    "        self.train_loader, self.test_loader = create_data_loaders()\n",
    "\n",
    "        self.criterion = nn.CrossEntropyLoss()\n",
    "    \n",
    "    def prep_pixels(self, train: np.ndarray, test: np.ndarray) -> tuple:\n",
    "        return train.astype('float32') / 255, test.astype('float32') / 255\n",
    "    \n",
    "    def calc_accuracy(self, correct_: float, train_: bool = True) -> float:\n",
    "        return correct_ / len(self.train_loader.dataset if train_ else self.test_loader.dataset)\n",
    "    \n",
    "    def start_wandb(self) -> None:\n",
    "        if CFG.wandb:\n",
    "            os.environ[\"WANDB_API_KEY\"] = CFG.api\n",
    "            wandb.init(project=CFG.project, entity=CFG.entity, reinit=True, config=class2dict(CFG))\n",
    "            wandb.watch(self.model, log=\"all\")\n",
    "    \n",
    "    def write_log_to_wandb(self, loss_: float, accuracy_: float, train_: bool = True) -> None:\n",
    "        if CFG.wandb:\n",
    "            wandb.log({\n",
    "                \"train_loss\" if train_ else \"test_loss\": loss_,\n",
    "                \"train_accuracy\" if train_ else \"test_accuracy\": accuracy_\n",
    "            })\n",
    "    \n",
    "    def write_tqdm(self, loss_: float, correct_: float, train_: bool = True) -> None:\n",
    "        accuracy = self.calc_accuracy(correct_, train_)\n",
    "        tqdm.write(\"\\n{}: Average loss: {:.4f}, Accuracy: {:.0f}%\".format(\n",
    "            \"Train set\" if train_ else \"Test set\", loss_, 100. * accuracy\n",
    "        ))\n",
    "        self.write_log_to_wandb(loss_, accuracy, train_)\n",
    "    \n",
    "    def start_learn(self):\n",
    "        seed_everything(CFG.seed)\n",
    "        self.start_wandb()\n",
    "        \n",
    "        print(\"\\nTraining start!\")\n",
    "        for epoch in range(1, CFG.num_epochs + 1):\n",
    "            print(\"\\nEpoch:\", epoch)\n",
    "            self.train()\n",
    "            self.test()\n",
    "        print(\"\\nTraining end!\")\n",
    "\n",
    "    def train(self) -> None:\n",
    "\n",
    "        def _make_train_step(data: torch.Tensor, target: torch.Tensor) -> tuple:\n",
    "            data, target = data.to(self.device), target.to(self.device)\n",
    "            self.optimizer.zero_grad()\n",
    "            output = self.model.forward(data)\n",
    "            pred = output.argmax(dim=1, keepdim=True)\n",
    "            train_loss = self.criterion(output, target)\n",
    "            train_loss.backward()\n",
    "            self.optimizer.step()\n",
    "            return pred.eq(target.view_as(pred)).sum().item(), train_loss\n",
    "    \n",
    "        self.model.train()\n",
    "        correct, train_loss = 0, 0\n",
    "        for _, (train_data, train_target) in tqdm(enumerate(self.train_loader), total=len(self.train_loader)):\n",
    "            new_correct, train_loss = _make_train_step(train_data, train_target)\n",
    "            correct += new_correct\n",
    "        \n",
    "        self.write_tqdm(train_loss, correct)\n",
    "\n",
    "    def test(self) -> None:\n",
    "\n",
    "        def _make_test_step(data: torch.Tensor, target: torch.Tensor) -> tuple:\n",
    "            data, target = data.to(self.device), target.to(self.device)\n",
    "            output = self.model(data)\n",
    "            test_loss = self.criterion(output, target)\n",
    "            pred = output.argmax(dim=1, keepdim=True)\n",
    "            return pred.eq(target.view_as(pred)).sum().item(), test_loss\n",
    "        \n",
    "        self.model.eval()\n",
    "        correct, test_loss = 0, 0\n",
    "        with torch.no_grad():\n",
    "            for test_data, test_target in self.test_loader:\n",
    "                new_correct, test_loss = _make_test_step(test_data, test_target)\n",
    "                correct += new_correct\n",
    "\n",
    "        self.write_tqdm(test_loss, correct, False)"
   ]
  },
  {
   "cell_type": "code",
   "execution_count": 165,
   "metadata": {},
   "outputs": [
    {
     "name": "stdout",
     "output_type": "stream",
     "text": [
      "device:  mps\n",
      "\n",
      " Adam\n",
      "\n",
      "Training start!\n",
      "\n",
      "Epoch: 1\n"
     ]
    },
    {
     "name": "stderr",
     "output_type": "stream",
     "text": [
      "100%|██████████| 938/938 [00:13<00:00, 70.18it/s]\n"
     ]
    },
    {
     "name": "stdout",
     "output_type": "stream",
     "text": [
      "\n",
      "Train set: Average loss: 0.4852, Accuracy: 80%\n",
      "\n",
      "Test set: Average loss: 0.4448, Accuracy: 83%\n",
      "\n",
      "Epoch: 2\n"
     ]
    },
    {
     "name": "stderr",
     "output_type": "stream",
     "text": [
      "100%|██████████| 938/938 [00:10<00:00, 85.47it/s]\n"
     ]
    },
    {
     "name": "stdout",
     "output_type": "stream",
     "text": [
      "\n",
      "Train set: Average loss: 0.5264, Accuracy: 84%\n",
      "\n",
      "Test set: Average loss: 0.4741, Accuracy: 83%\n",
      "\n",
      "Epoch: 3\n"
     ]
    },
    {
     "name": "stderr",
     "output_type": "stream",
     "text": [
      "100%|██████████| 938/938 [00:11<00:00, 82.13it/s]\n"
     ]
    },
    {
     "name": "stdout",
     "output_type": "stream",
     "text": [
      "\n",
      "Train set: Average loss: 0.4135, Accuracy: 86%\n",
      "\n",
      "Test set: Average loss: 0.4003, Accuracy: 84%\n",
      "\n",
      "Epoch: 4\n"
     ]
    },
    {
     "name": "stderr",
     "output_type": "stream",
     "text": [
      "100%|██████████| 938/938 [00:11<00:00, 83.36it/s]\n"
     ]
    },
    {
     "name": "stdout",
     "output_type": "stream",
     "text": [
      "\n",
      "Train set: Average loss: 0.7465, Accuracy: 86%\n",
      "\n",
      "Test set: Average loss: 0.4467, Accuracy: 85%\n",
      "\n",
      "Epoch: 5\n"
     ]
    },
    {
     "name": "stderr",
     "output_type": "stream",
     "text": [
      "100%|██████████| 938/938 [00:10<00:00, 92.31it/s]\n"
     ]
    },
    {
     "name": "stdout",
     "output_type": "stream",
     "text": [
      "\n",
      "Train set: Average loss: 0.2811, Accuracy: 86%\n",
      "\n",
      "Test set: Average loss: 0.4224, Accuracy: 85%\n",
      "\n",
      "Epoch: 6\n"
     ]
    },
    {
     "name": "stderr",
     "output_type": "stream",
     "text": [
      "100%|██████████| 938/938 [00:10<00:00, 91.67it/s]\n"
     ]
    },
    {
     "name": "stdout",
     "output_type": "stream",
     "text": [
      "\n",
      "Train set: Average loss: 0.4106, Accuracy: 87%\n",
      "\n",
      "Test set: Average loss: 0.4844, Accuracy: 85%\n",
      "\n",
      "Epoch: 7\n"
     ]
    },
    {
     "name": "stderr",
     "output_type": "stream",
     "text": [
      "100%|██████████| 938/938 [00:11<00:00, 81.59it/s]\n"
     ]
    },
    {
     "name": "stdout",
     "output_type": "stream",
     "text": [
      "\n",
      "Train set: Average loss: 0.2972, Accuracy: 87%\n",
      "\n",
      "Test set: Average loss: 0.4419, Accuracy: 85%\n",
      "\n",
      "Epoch: 8\n"
     ]
    },
    {
     "name": "stderr",
     "output_type": "stream",
     "text": [
      "100%|██████████| 938/938 [00:10<00:00, 88.30it/s]\n"
     ]
    },
    {
     "name": "stdout",
     "output_type": "stream",
     "text": [
      "\n",
      "Train set: Average loss: 0.2989, Accuracy: 87%\n",
      "\n",
      "Test set: Average loss: 0.4700, Accuracy: 85%\n",
      "\n",
      "Epoch: 9\n"
     ]
    },
    {
     "name": "stderr",
     "output_type": "stream",
     "text": [
      "100%|██████████| 938/938 [00:11<00:00, 84.88it/s]\n"
     ]
    },
    {
     "name": "stdout",
     "output_type": "stream",
     "text": [
      "\n",
      "Train set: Average loss: 0.3526, Accuracy: 87%\n",
      "\n",
      "Test set: Average loss: 0.4204, Accuracy: 85%\n",
      "\n",
      "Epoch: 10\n"
     ]
    },
    {
     "name": "stderr",
     "output_type": "stream",
     "text": [
      "100%|██████████| 938/938 [00:10<00:00, 85.30it/s]\n"
     ]
    },
    {
     "name": "stdout",
     "output_type": "stream",
     "text": [
      "\n",
      "Train set: Average loss: 0.3175, Accuracy: 87%\n",
      "\n",
      "Test set: Average loss: 0.3740, Accuracy: 85%\n",
      "\n",
      "Training end!\n"
     ]
    }
   ],
   "source": [
    "NetLearning(FCNet(), torch.optim.Adam).start_learn()"
   ]
  },
  {
   "cell_type": "markdown",
   "metadata": {},
   "source": [
    "Добавление слоя не дало ожидаемого результата. Поэтому оставляем сеть без изменений."
   ]
  }
 ],
 "metadata": {
  "accelerator": "GPU",
  "colab": {
   "provenance": []
  },
  "gpuClass": "standard",
  "kernelspec": {
   "display_name": "Python 3 (ipykernel)",
   "language": "python",
   "name": "python3"
  },
  "language_info": {
   "codemirror_mode": {
    "name": "ipython",
    "version": 3
   },
   "file_extension": ".py",
   "mimetype": "text/x-python",
   "name": "python",
   "nbconvert_exporter": "python",
   "pygments_lexer": "ipython3",
   "version": "3.11.6"
  },
  "widgets": {
   "application/vnd.jupyter.widget-state+json": {
    "03c69a7a5d12421f9aa500c07e3da3de": {
     "model_module": "@jupyter-widgets/controls",
     "model_module_version": "1.5.0",
     "model_name": "ProgressStyleModel",
     "state": {
      "_model_module": "@jupyter-widgets/controls",
      "_model_module_version": "1.5.0",
      "_model_name": "ProgressStyleModel",
      "_view_count": null,
      "_view_module": "@jupyter-widgets/base",
      "_view_module_version": "1.2.0",
      "_view_name": "StyleView",
      "bar_color": null,
      "description_width": ""
     }
    },
    "04f3207505394d6a84b619ffeb553c16": {
     "model_module": "@jupyter-widgets/base",
     "model_module_version": "1.2.0",
     "model_name": "LayoutModel",
     "state": {
      "_model_module": "@jupyter-widgets/base",
      "_model_module_version": "1.2.0",
      "_model_name": "LayoutModel",
      "_view_count": null,
      "_view_module": "@jupyter-widgets/base",
      "_view_module_version": "1.2.0",
      "_view_name": "LayoutView",
      "align_content": null,
      "align_items": null,
      "align_self": null,
      "border": null,
      "bottom": null,
      "display": null,
      "flex": null,
      "flex_flow": null,
      "grid_area": null,
      "grid_auto_columns": null,
      "grid_auto_flow": null,
      "grid_auto_rows": null,
      "grid_column": null,
      "grid_gap": null,
      "grid_row": null,
      "grid_template_areas": null,
      "grid_template_columns": null,
      "grid_template_rows": null,
      "height": null,
      "justify_content": null,
      "justify_items": null,
      "left": null,
      "margin": null,
      "max_height": null,
      "max_width": null,
      "min_height": null,
      "min_width": null,
      "object_fit": null,
      "object_position": null,
      "order": null,
      "overflow": null,
      "overflow_x": null,
      "overflow_y": null,
      "padding": null,
      "right": null,
      "top": null,
      "visibility": null,
      "width": null
     }
    },
    "078b58bc74ae462089b5f6f14e7b214a": {
     "model_module": "@jupyter-widgets/base",
     "model_module_version": "1.2.0",
     "model_name": "LayoutModel",
     "state": {
      "_model_module": "@jupyter-widgets/base",
      "_model_module_version": "1.2.0",
      "_model_name": "LayoutModel",
      "_view_count": null,
      "_view_module": "@jupyter-widgets/base",
      "_view_module_version": "1.2.0",
      "_view_name": "LayoutView",
      "align_content": null,
      "align_items": null,
      "align_self": null,
      "border": null,
      "bottom": null,
      "display": null,
      "flex": null,
      "flex_flow": null,
      "grid_area": null,
      "grid_auto_columns": null,
      "grid_auto_flow": null,
      "grid_auto_rows": null,
      "grid_column": null,
      "grid_gap": null,
      "grid_row": null,
      "grid_template_areas": null,
      "grid_template_columns": null,
      "grid_template_rows": null,
      "height": null,
      "justify_content": null,
      "justify_items": null,
      "left": null,
      "margin": null,
      "max_height": null,
      "max_width": null,
      "min_height": null,
      "min_width": null,
      "object_fit": null,
      "object_position": null,
      "order": null,
      "overflow": null,
      "overflow_x": null,
      "overflow_y": null,
      "padding": null,
      "right": null,
      "top": null,
      "visibility": null,
      "width": null
     }
    },
    "0b0712703cbf4a7084fd2a3cc6af50e7": {
     "model_module": "@jupyter-widgets/controls",
     "model_module_version": "1.5.0",
     "model_name": "HTMLModel",
     "state": {
      "_dom_classes": [],
      "_model_module": "@jupyter-widgets/controls",
      "_model_module_version": "1.5.0",
      "_model_name": "HTMLModel",
      "_view_count": null,
      "_view_module": "@jupyter-widgets/controls",
      "_view_module_version": "1.5.0",
      "_view_name": "HTMLView",
      "description": "",
      "description_tooltip": null,
      "layout": "IPY_MODEL_04f3207505394d6a84b619ffeb553c16",
      "placeholder": "​",
      "style": "IPY_MODEL_2a13e0a9c74346259c543798303bb0bd",
      "value": " 4422102/4422102 [00:00&lt;00:00, 53989439.74it/s]"
     }
    },
    "0ffb5b37baec47378e6a3bc8de48637d": {
     "model_module": "@jupyter-widgets/controls",
     "model_module_version": "1.5.0",
     "model_name": "DescriptionStyleModel",
     "state": {
      "_model_module": "@jupyter-widgets/controls",
      "_model_module_version": "1.5.0",
      "_model_name": "DescriptionStyleModel",
      "_view_count": null,
      "_view_module": "@jupyter-widgets/base",
      "_view_module_version": "1.2.0",
      "_view_name": "StyleView",
      "description_width": ""
     }
    },
    "13008e863cfd4a7bb37104a43929c2ec": {
     "model_module": "@jupyter-widgets/controls",
     "model_module_version": "1.5.0",
     "model_name": "ProgressStyleModel",
     "state": {
      "_model_module": "@jupyter-widgets/controls",
      "_model_module_version": "1.5.0",
      "_model_name": "ProgressStyleModel",
      "_view_count": null,
      "_view_module": "@jupyter-widgets/base",
      "_view_module_version": "1.2.0",
      "_view_name": "StyleView",
      "bar_color": null,
      "description_width": ""
     }
    },
    "1404586577064ac39c3aca60bc22fdfa": {
     "model_module": "@jupyter-widgets/controls",
     "model_module_version": "1.5.0",
     "model_name": "HBoxModel",
     "state": {
      "_dom_classes": [],
      "_model_module": "@jupyter-widgets/controls",
      "_model_module_version": "1.5.0",
      "_model_name": "HBoxModel",
      "_view_count": null,
      "_view_module": "@jupyter-widgets/controls",
      "_view_module_version": "1.5.0",
      "_view_name": "HBoxView",
      "box_style": "",
      "children": [
       "IPY_MODEL_f4353bdca8a84c4cb856a70fb457cb0c",
       "IPY_MODEL_3423293a5e9240a6b06035c4ce1e39e3",
       "IPY_MODEL_53740d0f8ff84d3eaaa47805d29fc185"
      ],
      "layout": "IPY_MODEL_9502536b161c45f89f0e6dfbac6eede1"
     }
    },
    "24f3de27786a4c0a96211e98f3f6de21": {
     "model_module": "@jupyter-widgets/controls",
     "model_module_version": "1.5.0",
     "model_name": "DescriptionStyleModel",
     "state": {
      "_model_module": "@jupyter-widgets/controls",
      "_model_module_version": "1.5.0",
      "_model_name": "DescriptionStyleModel",
      "_view_count": null,
      "_view_module": "@jupyter-widgets/base",
      "_view_module_version": "1.2.0",
      "_view_name": "StyleView",
      "description_width": ""
     }
    },
    "260271b63a2645bfb94690b666a01bc5": {
     "model_module": "@jupyter-widgets/controls",
     "model_module_version": "1.5.0",
     "model_name": "HBoxModel",
     "state": {
      "_dom_classes": [],
      "_model_module": "@jupyter-widgets/controls",
      "_model_module_version": "1.5.0",
      "_model_name": "HBoxModel",
      "_view_count": null,
      "_view_module": "@jupyter-widgets/controls",
      "_view_module_version": "1.5.0",
      "_view_name": "HBoxView",
      "box_style": "",
      "children": [
       "IPY_MODEL_f40d574c77b7409495554a60923951d9",
       "IPY_MODEL_ed41341c970c46508970a4edd6846b79",
       "IPY_MODEL_0b0712703cbf4a7084fd2a3cc6af50e7"
      ],
      "layout": "IPY_MODEL_6d126ed06f1040d784b18b3c8e9cb22d"
     }
    },
    "2a13e0a9c74346259c543798303bb0bd": {
     "model_module": "@jupyter-widgets/controls",
     "model_module_version": "1.5.0",
     "model_name": "DescriptionStyleModel",
     "state": {
      "_model_module": "@jupyter-widgets/controls",
      "_model_module_version": "1.5.0",
      "_model_name": "DescriptionStyleModel",
      "_view_count": null,
      "_view_module": "@jupyter-widgets/base",
      "_view_module_version": "1.2.0",
      "_view_name": "StyleView",
      "description_width": ""
     }
    },
    "3423293a5e9240a6b06035c4ce1e39e3": {
     "model_module": "@jupyter-widgets/controls",
     "model_module_version": "1.5.0",
     "model_name": "FloatProgressModel",
     "state": {
      "_dom_classes": [],
      "_model_module": "@jupyter-widgets/controls",
      "_model_module_version": "1.5.0",
      "_model_name": "FloatProgressModel",
      "_view_count": null,
      "_view_module": "@jupyter-widgets/controls",
      "_view_module_version": "1.5.0",
      "_view_name": "ProgressView",
      "bar_style": "success",
      "description": "",
      "description_tooltip": null,
      "layout": "IPY_MODEL_410192f78d3e46bbb8762c35787bf13d",
      "max": 26421880,
      "min": 0,
      "orientation": "horizontal",
      "style": "IPY_MODEL_13008e863cfd4a7bb37104a43929c2ec",
      "value": 26421880
     }
    },
    "410192f78d3e46bbb8762c35787bf13d": {
     "model_module": "@jupyter-widgets/base",
     "model_module_version": "1.2.0",
     "model_name": "LayoutModel",
     "state": {
      "_model_module": "@jupyter-widgets/base",
      "_model_module_version": "1.2.0",
      "_model_name": "LayoutModel",
      "_view_count": null,
      "_view_module": "@jupyter-widgets/base",
      "_view_module_version": "1.2.0",
      "_view_name": "LayoutView",
      "align_content": null,
      "align_items": null,
      "align_self": null,
      "border": null,
      "bottom": null,
      "display": null,
      "flex": null,
      "flex_flow": null,
      "grid_area": null,
      "grid_auto_columns": null,
      "grid_auto_flow": null,
      "grid_auto_rows": null,
      "grid_column": null,
      "grid_gap": null,
      "grid_row": null,
      "grid_template_areas": null,
      "grid_template_columns": null,
      "grid_template_rows": null,
      "height": null,
      "justify_content": null,
      "justify_items": null,
      "left": null,
      "margin": null,
      "max_height": null,
      "max_width": null,
      "min_height": null,
      "min_width": null,
      "object_fit": null,
      "object_position": null,
      "order": null,
      "overflow": null,
      "overflow_x": null,
      "overflow_y": null,
      "padding": null,
      "right": null,
      "top": null,
      "visibility": null,
      "width": null
     }
    },
    "4981f159d57b45e28ac87127ec93196e": {
     "model_module": "@jupyter-widgets/controls",
     "model_module_version": "1.5.0",
     "model_name": "DescriptionStyleModel",
     "state": {
      "_model_module": "@jupyter-widgets/controls",
      "_model_module_version": "1.5.0",
      "_model_name": "DescriptionStyleModel",
      "_view_count": null,
      "_view_module": "@jupyter-widgets/base",
      "_view_module_version": "1.2.0",
      "_view_name": "StyleView",
      "description_width": ""
     }
    },
    "4f32f08573be44b5901cf1753065c4fe": {
     "model_module": "@jupyter-widgets/base",
     "model_module_version": "1.2.0",
     "model_name": "LayoutModel",
     "state": {
      "_model_module": "@jupyter-widgets/base",
      "_model_module_version": "1.2.0",
      "_model_name": "LayoutModel",
      "_view_count": null,
      "_view_module": "@jupyter-widgets/base",
      "_view_module_version": "1.2.0",
      "_view_name": "LayoutView",
      "align_content": null,
      "align_items": null,
      "align_self": null,
      "border": null,
      "bottom": null,
      "display": null,
      "flex": null,
      "flex_flow": null,
      "grid_area": null,
      "grid_auto_columns": null,
      "grid_auto_flow": null,
      "grid_auto_rows": null,
      "grid_column": null,
      "grid_gap": null,
      "grid_row": null,
      "grid_template_areas": null,
      "grid_template_columns": null,
      "grid_template_rows": null,
      "height": null,
      "justify_content": null,
      "justify_items": null,
      "left": null,
      "margin": null,
      "max_height": null,
      "max_width": null,
      "min_height": null,
      "min_width": null,
      "object_fit": null,
      "object_position": null,
      "order": null,
      "overflow": null,
      "overflow_x": null,
      "overflow_y": null,
      "padding": null,
      "right": null,
      "top": null,
      "visibility": null,
      "width": null
     }
    },
    "53740d0f8ff84d3eaaa47805d29fc185": {
     "model_module": "@jupyter-widgets/controls",
     "model_module_version": "1.5.0",
     "model_name": "HTMLModel",
     "state": {
      "_dom_classes": [],
      "_model_module": "@jupyter-widgets/controls",
      "_model_module_version": "1.5.0",
      "_model_name": "HTMLModel",
      "_view_count": null,
      "_view_module": "@jupyter-widgets/controls",
      "_view_module_version": "1.5.0",
      "_view_name": "HTMLView",
      "description": "",
      "description_tooltip": null,
      "layout": "IPY_MODEL_5eb52c56c3334ac3915aee8616ddedb1",
      "placeholder": "​",
      "style": "IPY_MODEL_24f3de27786a4c0a96211e98f3f6de21",
      "value": " 26421880/26421880 [00:00&lt;00:00, 120196346.34it/s]"
     }
    },
    "54160fd1c6b64563a9702f5cb01a1e61": {
     "model_module": "@jupyter-widgets/controls",
     "model_module_version": "1.5.0",
     "model_name": "HTMLModel",
     "state": {
      "_dom_classes": [],
      "_model_module": "@jupyter-widgets/controls",
      "_model_module_version": "1.5.0",
      "_model_name": "HTMLModel",
      "_view_count": null,
      "_view_module": "@jupyter-widgets/controls",
      "_view_module_version": "1.5.0",
      "_view_name": "HTMLView",
      "description": "",
      "description_tooltip": null,
      "layout": "IPY_MODEL_781d551e0abd476c9f39a5bb56a2eca3",
      "placeholder": "​",
      "style": "IPY_MODEL_0ffb5b37baec47378e6a3bc8de48637d",
      "value": " 5148/5148 [00:00&lt;00:00, 296218.80it/s]"
     }
    },
    "5d0549499a664bafaf871b0583cd92ca": {
     "model_module": "@jupyter-widgets/controls",
     "model_module_version": "1.5.0",
     "model_name": "HTMLModel",
     "state": {
      "_dom_classes": [],
      "_model_module": "@jupyter-widgets/controls",
      "_model_module_version": "1.5.0",
      "_model_name": "HTMLModel",
      "_view_count": null,
      "_view_module": "@jupyter-widgets/controls",
      "_view_module_version": "1.5.0",
      "_view_name": "HTMLView",
      "description": "",
      "description_tooltip": null,
      "layout": "IPY_MODEL_6278e2dcc4624374b57a9dc6f8202fa7",
      "placeholder": "​",
      "style": "IPY_MODEL_66d50b2a1af242e39aa10ee608c14e96",
      "value": "100%"
     }
    },
    "5eb52c56c3334ac3915aee8616ddedb1": {
     "model_module": "@jupyter-widgets/base",
     "model_module_version": "1.2.0",
     "model_name": "LayoutModel",
     "state": {
      "_model_module": "@jupyter-widgets/base",
      "_model_module_version": "1.2.0",
      "_model_name": "LayoutModel",
      "_view_count": null,
      "_view_module": "@jupyter-widgets/base",
      "_view_module_version": "1.2.0",
      "_view_name": "LayoutView",
      "align_content": null,
      "align_items": null,
      "align_self": null,
      "border": null,
      "bottom": null,
      "display": null,
      "flex": null,
      "flex_flow": null,
      "grid_area": null,
      "grid_auto_columns": null,
      "grid_auto_flow": null,
      "grid_auto_rows": null,
      "grid_column": null,
      "grid_gap": null,
      "grid_row": null,
      "grid_template_areas": null,
      "grid_template_columns": null,
      "grid_template_rows": null,
      "height": null,
      "justify_content": null,
      "justify_items": null,
      "left": null,
      "margin": null,
      "max_height": null,
      "max_width": null,
      "min_height": null,
      "min_width": null,
      "object_fit": null,
      "object_position": null,
      "order": null,
      "overflow": null,
      "overflow_x": null,
      "overflow_y": null,
      "padding": null,
      "right": null,
      "top": null,
      "visibility": null,
      "width": null
     }
    },
    "6278e2dcc4624374b57a9dc6f8202fa7": {
     "model_module": "@jupyter-widgets/base",
     "model_module_version": "1.2.0",
     "model_name": "LayoutModel",
     "state": {
      "_model_module": "@jupyter-widgets/base",
      "_model_module_version": "1.2.0",
      "_model_name": "LayoutModel",
      "_view_count": null,
      "_view_module": "@jupyter-widgets/base",
      "_view_module_version": "1.2.0",
      "_view_name": "LayoutView",
      "align_content": null,
      "align_items": null,
      "align_self": null,
      "border": null,
      "bottom": null,
      "display": null,
      "flex": null,
      "flex_flow": null,
      "grid_area": null,
      "grid_auto_columns": null,
      "grid_auto_flow": null,
      "grid_auto_rows": null,
      "grid_column": null,
      "grid_gap": null,
      "grid_row": null,
      "grid_template_areas": null,
      "grid_template_columns": null,
      "grid_template_rows": null,
      "height": null,
      "justify_content": null,
      "justify_items": null,
      "left": null,
      "margin": null,
      "max_height": null,
      "max_width": null,
      "min_height": null,
      "min_width": null,
      "object_fit": null,
      "object_position": null,
      "order": null,
      "overflow": null,
      "overflow_x": null,
      "overflow_y": null,
      "padding": null,
      "right": null,
      "top": null,
      "visibility": null,
      "width": null
     }
    },
    "65fc1f331b6244de96070e8922b2ec56": {
     "model_module": "@jupyter-widgets/controls",
     "model_module_version": "1.5.0",
     "model_name": "DescriptionStyleModel",
     "state": {
      "_model_module": "@jupyter-widgets/controls",
      "_model_module_version": "1.5.0",
      "_model_name": "DescriptionStyleModel",
      "_view_count": null,
      "_view_module": "@jupyter-widgets/base",
      "_view_module_version": "1.2.0",
      "_view_name": "StyleView",
      "description_width": ""
     }
    },
    "66d50b2a1af242e39aa10ee608c14e96": {
     "model_module": "@jupyter-widgets/controls",
     "model_module_version": "1.5.0",
     "model_name": "DescriptionStyleModel",
     "state": {
      "_model_module": "@jupyter-widgets/controls",
      "_model_module_version": "1.5.0",
      "_model_name": "DescriptionStyleModel",
      "_view_count": null,
      "_view_module": "@jupyter-widgets/base",
      "_view_module_version": "1.2.0",
      "_view_name": "StyleView",
      "description_width": ""
     }
    },
    "682f74c03e704a08bcd65a497b27765c": {
     "model_module": "@jupyter-widgets/base",
     "model_module_version": "1.2.0",
     "model_name": "LayoutModel",
     "state": {
      "_model_module": "@jupyter-widgets/base",
      "_model_module_version": "1.2.0",
      "_model_name": "LayoutModel",
      "_view_count": null,
      "_view_module": "@jupyter-widgets/base",
      "_view_module_version": "1.2.0",
      "_view_name": "LayoutView",
      "align_content": null,
      "align_items": null,
      "align_self": null,
      "border": null,
      "bottom": null,
      "display": null,
      "flex": null,
      "flex_flow": null,
      "grid_area": null,
      "grid_auto_columns": null,
      "grid_auto_flow": null,
      "grid_auto_rows": null,
      "grid_column": null,
      "grid_gap": null,
      "grid_row": null,
      "grid_template_areas": null,
      "grid_template_columns": null,
      "grid_template_rows": null,
      "height": null,
      "justify_content": null,
      "justify_items": null,
      "left": null,
      "margin": null,
      "max_height": null,
      "max_width": null,
      "min_height": null,
      "min_width": null,
      "object_fit": null,
      "object_position": null,
      "order": null,
      "overflow": null,
      "overflow_x": null,
      "overflow_y": null,
      "padding": null,
      "right": null,
      "top": null,
      "visibility": null,
      "width": null
     }
    },
    "68fd6008d04e407ea63b2e26fd708d74": {
     "model_module": "@jupyter-widgets/controls",
     "model_module_version": "1.5.0",
     "model_name": "FloatProgressModel",
     "state": {
      "_dom_classes": [],
      "_model_module": "@jupyter-widgets/controls",
      "_model_module_version": "1.5.0",
      "_model_name": "FloatProgressModel",
      "_view_count": null,
      "_view_module": "@jupyter-widgets/controls",
      "_view_module_version": "1.5.0",
      "_view_name": "ProgressView",
      "bar_style": "success",
      "description": "",
      "description_tooltip": null,
      "layout": "IPY_MODEL_96908fea4073438ab43fddf2e179d57a",
      "max": 29515,
      "min": 0,
      "orientation": "horizontal",
      "style": "IPY_MODEL_c02ffb68b2f54551a7fbd76a3db63ff5",
      "value": 29515
     }
    },
    "6d126ed06f1040d784b18b3c8e9cb22d": {
     "model_module": "@jupyter-widgets/base",
     "model_module_version": "1.2.0",
     "model_name": "LayoutModel",
     "state": {
      "_model_module": "@jupyter-widgets/base",
      "_model_module_version": "1.2.0",
      "_model_name": "LayoutModel",
      "_view_count": null,
      "_view_module": "@jupyter-widgets/base",
      "_view_module_version": "1.2.0",
      "_view_name": "LayoutView",
      "align_content": null,
      "align_items": null,
      "align_self": null,
      "border": null,
      "bottom": null,
      "display": null,
      "flex": null,
      "flex_flow": null,
      "grid_area": null,
      "grid_auto_columns": null,
      "grid_auto_flow": null,
      "grid_auto_rows": null,
      "grid_column": null,
      "grid_gap": null,
      "grid_row": null,
      "grid_template_areas": null,
      "grid_template_columns": null,
      "grid_template_rows": null,
      "height": null,
      "justify_content": null,
      "justify_items": null,
      "left": null,
      "margin": null,
      "max_height": null,
      "max_width": null,
      "min_height": null,
      "min_width": null,
      "object_fit": null,
      "object_position": null,
      "order": null,
      "overflow": null,
      "overflow_x": null,
      "overflow_y": null,
      "padding": null,
      "right": null,
      "top": null,
      "visibility": null,
      "width": null
     }
    },
    "781d551e0abd476c9f39a5bb56a2eca3": {
     "model_module": "@jupyter-widgets/base",
     "model_module_version": "1.2.0",
     "model_name": "LayoutModel",
     "state": {
      "_model_module": "@jupyter-widgets/base",
      "_model_module_version": "1.2.0",
      "_model_name": "LayoutModel",
      "_view_count": null,
      "_view_module": "@jupyter-widgets/base",
      "_view_module_version": "1.2.0",
      "_view_name": "LayoutView",
      "align_content": null,
      "align_items": null,
      "align_self": null,
      "border": null,
      "bottom": null,
      "display": null,
      "flex": null,
      "flex_flow": null,
      "grid_area": null,
      "grid_auto_columns": null,
      "grid_auto_flow": null,
      "grid_auto_rows": null,
      "grid_column": null,
      "grid_gap": null,
      "grid_row": null,
      "grid_template_areas": null,
      "grid_template_columns": null,
      "grid_template_rows": null,
      "height": null,
      "justify_content": null,
      "justify_items": null,
      "left": null,
      "margin": null,
      "max_height": null,
      "max_width": null,
      "min_height": null,
      "min_width": null,
      "object_fit": null,
      "object_position": null,
      "order": null,
      "overflow": null,
      "overflow_x": null,
      "overflow_y": null,
      "padding": null,
      "right": null,
      "top": null,
      "visibility": null,
      "width": null
     }
    },
    "847a03d3f0944e65bd3a80a2d1397556": {
     "model_module": "@jupyter-widgets/controls",
     "model_module_version": "1.5.0",
     "model_name": "HTMLModel",
     "state": {
      "_dom_classes": [],
      "_model_module": "@jupyter-widgets/controls",
      "_model_module_version": "1.5.0",
      "_model_name": "HTMLModel",
      "_view_count": null,
      "_view_module": "@jupyter-widgets/controls",
      "_view_module_version": "1.5.0",
      "_view_name": "HTMLView",
      "description": "",
      "description_tooltip": null,
      "layout": "IPY_MODEL_a226aab6a5e14cdeab04c2035cba4067",
      "placeholder": "​",
      "style": "IPY_MODEL_4981f159d57b45e28ac87127ec93196e",
      "value": " 29515/29515 [00:00&lt;00:00, 916686.78it/s]"
     }
    },
    "9502536b161c45f89f0e6dfbac6eede1": {
     "model_module": "@jupyter-widgets/base",
     "model_module_version": "1.2.0",
     "model_name": "LayoutModel",
     "state": {
      "_model_module": "@jupyter-widgets/base",
      "_model_module_version": "1.2.0",
      "_model_name": "LayoutModel",
      "_view_count": null,
      "_view_module": "@jupyter-widgets/base",
      "_view_module_version": "1.2.0",
      "_view_name": "LayoutView",
      "align_content": null,
      "align_items": null,
      "align_self": null,
      "border": null,
      "bottom": null,
      "display": null,
      "flex": null,
      "flex_flow": null,
      "grid_area": null,
      "grid_auto_columns": null,
      "grid_auto_flow": null,
      "grid_auto_rows": null,
      "grid_column": null,
      "grid_gap": null,
      "grid_row": null,
      "grid_template_areas": null,
      "grid_template_columns": null,
      "grid_template_rows": null,
      "height": null,
      "justify_content": null,
      "justify_items": null,
      "left": null,
      "margin": null,
      "max_height": null,
      "max_width": null,
      "min_height": null,
      "min_width": null,
      "object_fit": null,
      "object_position": null,
      "order": null,
      "overflow": null,
      "overflow_x": null,
      "overflow_y": null,
      "padding": null,
      "right": null,
      "top": null,
      "visibility": null,
      "width": null
     }
    },
    "96908fea4073438ab43fddf2e179d57a": {
     "model_module": "@jupyter-widgets/base",
     "model_module_version": "1.2.0",
     "model_name": "LayoutModel",
     "state": {
      "_model_module": "@jupyter-widgets/base",
      "_model_module_version": "1.2.0",
      "_model_name": "LayoutModel",
      "_view_count": null,
      "_view_module": "@jupyter-widgets/base",
      "_view_module_version": "1.2.0",
      "_view_name": "LayoutView",
      "align_content": null,
      "align_items": null,
      "align_self": null,
      "border": null,
      "bottom": null,
      "display": null,
      "flex": null,
      "flex_flow": null,
      "grid_area": null,
      "grid_auto_columns": null,
      "grid_auto_flow": null,
      "grid_auto_rows": null,
      "grid_column": null,
      "grid_gap": null,
      "grid_row": null,
      "grid_template_areas": null,
      "grid_template_columns": null,
      "grid_template_rows": null,
      "height": null,
      "justify_content": null,
      "justify_items": null,
      "left": null,
      "margin": null,
      "max_height": null,
      "max_width": null,
      "min_height": null,
      "min_width": null,
      "object_fit": null,
      "object_position": null,
      "order": null,
      "overflow": null,
      "overflow_x": null,
      "overflow_y": null,
      "padding": null,
      "right": null,
      "top": null,
      "visibility": null,
      "width": null
     }
    },
    "9b6630c18a9e4012b2edbea6a36a8bed": {
     "model_module": "@jupyter-widgets/controls",
     "model_module_version": "1.5.0",
     "model_name": "DescriptionStyleModel",
     "state": {
      "_model_module": "@jupyter-widgets/controls",
      "_model_module_version": "1.5.0",
      "_model_name": "DescriptionStyleModel",
      "_view_count": null,
      "_view_module": "@jupyter-widgets/base",
      "_view_module_version": "1.2.0",
      "_view_name": "StyleView",
      "description_width": ""
     }
    },
    "a226aab6a5e14cdeab04c2035cba4067": {
     "model_module": "@jupyter-widgets/base",
     "model_module_version": "1.2.0",
     "model_name": "LayoutModel",
     "state": {
      "_model_module": "@jupyter-widgets/base",
      "_model_module_version": "1.2.0",
      "_model_name": "LayoutModel",
      "_view_count": null,
      "_view_module": "@jupyter-widgets/base",
      "_view_module_version": "1.2.0",
      "_view_name": "LayoutView",
      "align_content": null,
      "align_items": null,
      "align_self": null,
      "border": null,
      "bottom": null,
      "display": null,
      "flex": null,
      "flex_flow": null,
      "grid_area": null,
      "grid_auto_columns": null,
      "grid_auto_flow": null,
      "grid_auto_rows": null,
      "grid_column": null,
      "grid_gap": null,
      "grid_row": null,
      "grid_template_areas": null,
      "grid_template_columns": null,
      "grid_template_rows": null,
      "height": null,
      "justify_content": null,
      "justify_items": null,
      "left": null,
      "margin": null,
      "max_height": null,
      "max_width": null,
      "min_height": null,
      "min_width": null,
      "object_fit": null,
      "object_position": null,
      "order": null,
      "overflow": null,
      "overflow_x": null,
      "overflow_y": null,
      "padding": null,
      "right": null,
      "top": null,
      "visibility": null,
      "width": null
     }
    },
    "a34172bcfa7446139937b71993f636b4": {
     "model_module": "@jupyter-widgets/controls",
     "model_module_version": "1.5.0",
     "model_name": "FloatProgressModel",
     "state": {
      "_dom_classes": [],
      "_model_module": "@jupyter-widgets/controls",
      "_model_module_version": "1.5.0",
      "_model_name": "FloatProgressModel",
      "_view_count": null,
      "_view_module": "@jupyter-widgets/controls",
      "_view_module_version": "1.5.0",
      "_view_name": "ProgressView",
      "bar_style": "success",
      "description": "",
      "description_tooltip": null,
      "layout": "IPY_MODEL_b20bf379eb784906a7fbcc82d3ca2734",
      "max": 5148,
      "min": 0,
      "orientation": "horizontal",
      "style": "IPY_MODEL_03c69a7a5d12421f9aa500c07e3da3de",
      "value": 5148
     }
    },
    "ad6d1b93d429496abbd7121a4f0b9de6": {
     "model_module": "@jupyter-widgets/controls",
     "model_module_version": "1.5.0",
     "model_name": "HBoxModel",
     "state": {
      "_dom_classes": [],
      "_model_module": "@jupyter-widgets/controls",
      "_model_module_version": "1.5.0",
      "_model_name": "HBoxModel",
      "_view_count": null,
      "_view_module": "@jupyter-widgets/controls",
      "_view_module_version": "1.5.0",
      "_view_name": "HBoxView",
      "box_style": "",
      "children": [
       "IPY_MODEL_5d0549499a664bafaf871b0583cd92ca",
       "IPY_MODEL_68fd6008d04e407ea63b2e26fd708d74",
       "IPY_MODEL_847a03d3f0944e65bd3a80a2d1397556"
      ],
      "layout": "IPY_MODEL_682f74c03e704a08bcd65a497b27765c"
     }
    },
    "afbec42e54fa4012aba3f8053e04dadc": {
     "model_module": "@jupyter-widgets/base",
     "model_module_version": "1.2.0",
     "model_name": "LayoutModel",
     "state": {
      "_model_module": "@jupyter-widgets/base",
      "_model_module_version": "1.2.0",
      "_model_name": "LayoutModel",
      "_view_count": null,
      "_view_module": "@jupyter-widgets/base",
      "_view_module_version": "1.2.0",
      "_view_name": "LayoutView",
      "align_content": null,
      "align_items": null,
      "align_self": null,
      "border": null,
      "bottom": null,
      "display": null,
      "flex": null,
      "flex_flow": null,
      "grid_area": null,
      "grid_auto_columns": null,
      "grid_auto_flow": null,
      "grid_auto_rows": null,
      "grid_column": null,
      "grid_gap": null,
      "grid_row": null,
      "grid_template_areas": null,
      "grid_template_columns": null,
      "grid_template_rows": null,
      "height": null,
      "justify_content": null,
      "justify_items": null,
      "left": null,
      "margin": null,
      "max_height": null,
      "max_width": null,
      "min_height": null,
      "min_width": null,
      "object_fit": null,
      "object_position": null,
      "order": null,
      "overflow": null,
      "overflow_x": null,
      "overflow_y": null,
      "padding": null,
      "right": null,
      "top": null,
      "visibility": null,
      "width": null
     }
    },
    "b20bf379eb784906a7fbcc82d3ca2734": {
     "model_module": "@jupyter-widgets/base",
     "model_module_version": "1.2.0",
     "model_name": "LayoutModel",
     "state": {
      "_model_module": "@jupyter-widgets/base",
      "_model_module_version": "1.2.0",
      "_model_name": "LayoutModel",
      "_view_count": null,
      "_view_module": "@jupyter-widgets/base",
      "_view_module_version": "1.2.0",
      "_view_name": "LayoutView",
      "align_content": null,
      "align_items": null,
      "align_self": null,
      "border": null,
      "bottom": null,
      "display": null,
      "flex": null,
      "flex_flow": null,
      "grid_area": null,
      "grid_auto_columns": null,
      "grid_auto_flow": null,
      "grid_auto_rows": null,
      "grid_column": null,
      "grid_gap": null,
      "grid_row": null,
      "grid_template_areas": null,
      "grid_template_columns": null,
      "grid_template_rows": null,
      "height": null,
      "justify_content": null,
      "justify_items": null,
      "left": null,
      "margin": null,
      "max_height": null,
      "max_width": null,
      "min_height": null,
      "min_width": null,
      "object_fit": null,
      "object_position": null,
      "order": null,
      "overflow": null,
      "overflow_x": null,
      "overflow_y": null,
      "padding": null,
      "right": null,
      "top": null,
      "visibility": null,
      "width": null
     }
    },
    "b3c299a1f1e04909bbb63b6148551758": {
     "model_module": "@jupyter-widgets/controls",
     "model_module_version": "1.5.0",
     "model_name": "HTMLModel",
     "state": {
      "_dom_classes": [],
      "_model_module": "@jupyter-widgets/controls",
      "_model_module_version": "1.5.0",
      "_model_name": "HTMLModel",
      "_view_count": null,
      "_view_module": "@jupyter-widgets/controls",
      "_view_module_version": "1.5.0",
      "_view_name": "HTMLView",
      "description": "",
      "description_tooltip": null,
      "layout": "IPY_MODEL_4f32f08573be44b5901cf1753065c4fe",
      "placeholder": "​",
      "style": "IPY_MODEL_65fc1f331b6244de96070e8922b2ec56",
      "value": "100%"
     }
    },
    "c02ffb68b2f54551a7fbd76a3db63ff5": {
     "model_module": "@jupyter-widgets/controls",
     "model_module_version": "1.5.0",
     "model_name": "ProgressStyleModel",
     "state": {
      "_model_module": "@jupyter-widgets/controls",
      "_model_module_version": "1.5.0",
      "_model_name": "ProgressStyleModel",
      "_view_count": null,
      "_view_module": "@jupyter-widgets/base",
      "_view_module_version": "1.2.0",
      "_view_name": "StyleView",
      "bar_color": null,
      "description_width": ""
     }
    },
    "c1dc10497897440fa28ab38fb2569303": {
     "model_module": "@jupyter-widgets/base",
     "model_module_version": "1.2.0",
     "model_name": "LayoutModel",
     "state": {
      "_model_module": "@jupyter-widgets/base",
      "_model_module_version": "1.2.0",
      "_model_name": "LayoutModel",
      "_view_count": null,
      "_view_module": "@jupyter-widgets/base",
      "_view_module_version": "1.2.0",
      "_view_name": "LayoutView",
      "align_content": null,
      "align_items": null,
      "align_self": null,
      "border": null,
      "bottom": null,
      "display": null,
      "flex": null,
      "flex_flow": null,
      "grid_area": null,
      "grid_auto_columns": null,
      "grid_auto_flow": null,
      "grid_auto_rows": null,
      "grid_column": null,
      "grid_gap": null,
      "grid_row": null,
      "grid_template_areas": null,
      "grid_template_columns": null,
      "grid_template_rows": null,
      "height": null,
      "justify_content": null,
      "justify_items": null,
      "left": null,
      "margin": null,
      "max_height": null,
      "max_width": null,
      "min_height": null,
      "min_width": null,
      "object_fit": null,
      "object_position": null,
      "order": null,
      "overflow": null,
      "overflow_x": null,
      "overflow_y": null,
      "padding": null,
      "right": null,
      "top": null,
      "visibility": null,
      "width": null
     }
    },
    "c3788ca193df4dfab201a225e2b13543": {
     "model_module": "@jupyter-widgets/base",
     "model_module_version": "1.2.0",
     "model_name": "LayoutModel",
     "state": {
      "_model_module": "@jupyter-widgets/base",
      "_model_module_version": "1.2.0",
      "_model_name": "LayoutModel",
      "_view_count": null,
      "_view_module": "@jupyter-widgets/base",
      "_view_module_version": "1.2.0",
      "_view_name": "LayoutView",
      "align_content": null,
      "align_items": null,
      "align_self": null,
      "border": null,
      "bottom": null,
      "display": null,
      "flex": null,
      "flex_flow": null,
      "grid_area": null,
      "grid_auto_columns": null,
      "grid_auto_flow": null,
      "grid_auto_rows": null,
      "grid_column": null,
      "grid_gap": null,
      "grid_row": null,
      "grid_template_areas": null,
      "grid_template_columns": null,
      "grid_template_rows": null,
      "height": null,
      "justify_content": null,
      "justify_items": null,
      "left": null,
      "margin": null,
      "max_height": null,
      "max_width": null,
      "min_height": null,
      "min_width": null,
      "object_fit": null,
      "object_position": null,
      "order": null,
      "overflow": null,
      "overflow_x": null,
      "overflow_y": null,
      "padding": null,
      "right": null,
      "top": null,
      "visibility": null,
      "width": null
     }
    },
    "cad6583d2cfa4456af83644efb902d32": {
     "model_module": "@jupyter-widgets/controls",
     "model_module_version": "1.5.0",
     "model_name": "ProgressStyleModel",
     "state": {
      "_model_module": "@jupyter-widgets/controls",
      "_model_module_version": "1.5.0",
      "_model_name": "ProgressStyleModel",
      "_view_count": null,
      "_view_module": "@jupyter-widgets/base",
      "_view_module_version": "1.2.0",
      "_view_name": "StyleView",
      "bar_color": null,
      "description_width": ""
     }
    },
    "ed41341c970c46508970a4edd6846b79": {
     "model_module": "@jupyter-widgets/controls",
     "model_module_version": "1.5.0",
     "model_name": "FloatProgressModel",
     "state": {
      "_dom_classes": [],
      "_model_module": "@jupyter-widgets/controls",
      "_model_module_version": "1.5.0",
      "_model_name": "FloatProgressModel",
      "_view_count": null,
      "_view_module": "@jupyter-widgets/controls",
      "_view_module_version": "1.5.0",
      "_view_name": "ProgressView",
      "bar_style": "success",
      "description": "",
      "description_tooltip": null,
      "layout": "IPY_MODEL_078b58bc74ae462089b5f6f14e7b214a",
      "max": 4422102,
      "min": 0,
      "orientation": "horizontal",
      "style": "IPY_MODEL_cad6583d2cfa4456af83644efb902d32",
      "value": 4422102
     }
    },
    "f0a4baaaaf4540eba29c36c63f4078ab": {
     "model_module": "@jupyter-widgets/controls",
     "model_module_version": "1.5.0",
     "model_name": "HBoxModel",
     "state": {
      "_dom_classes": [],
      "_model_module": "@jupyter-widgets/controls",
      "_model_module_version": "1.5.0",
      "_model_name": "HBoxModel",
      "_view_count": null,
      "_view_module": "@jupyter-widgets/controls",
      "_view_module_version": "1.5.0",
      "_view_name": "HBoxView",
      "box_style": "",
      "children": [
       "IPY_MODEL_b3c299a1f1e04909bbb63b6148551758",
       "IPY_MODEL_a34172bcfa7446139937b71993f636b4",
       "IPY_MODEL_54160fd1c6b64563a9702f5cb01a1e61"
      ],
      "layout": "IPY_MODEL_c1dc10497897440fa28ab38fb2569303"
     }
    },
    "f40d574c77b7409495554a60923951d9": {
     "model_module": "@jupyter-widgets/controls",
     "model_module_version": "1.5.0",
     "model_name": "HTMLModel",
     "state": {
      "_dom_classes": [],
      "_model_module": "@jupyter-widgets/controls",
      "_model_module_version": "1.5.0",
      "_model_name": "HTMLModel",
      "_view_count": null,
      "_view_module": "@jupyter-widgets/controls",
      "_view_module_version": "1.5.0",
      "_view_name": "HTMLView",
      "description": "",
      "description_tooltip": null,
      "layout": "IPY_MODEL_c3788ca193df4dfab201a225e2b13543",
      "placeholder": "​",
      "style": "IPY_MODEL_9b6630c18a9e4012b2edbea6a36a8bed",
      "value": "100%"
     }
    },
    "f4353bdca8a84c4cb856a70fb457cb0c": {
     "model_module": "@jupyter-widgets/controls",
     "model_module_version": "1.5.0",
     "model_name": "HTMLModel",
     "state": {
      "_dom_classes": [],
      "_model_module": "@jupyter-widgets/controls",
      "_model_module_version": "1.5.0",
      "_model_name": "HTMLModel",
      "_view_count": null,
      "_view_module": "@jupyter-widgets/controls",
      "_view_module_version": "1.5.0",
      "_view_name": "HTMLView",
      "description": "",
      "description_tooltip": null,
      "layout": "IPY_MODEL_afbec42e54fa4012aba3f8053e04dadc",
      "placeholder": "​",
      "style": "IPY_MODEL_fc8420962cc34f0faebd0d2e4cf83cee",
      "value": "100%"
     }
    },
    "fc8420962cc34f0faebd0d2e4cf83cee": {
     "model_module": "@jupyter-widgets/controls",
     "model_module_version": "1.5.0",
     "model_name": "DescriptionStyleModel",
     "state": {
      "_model_module": "@jupyter-widgets/controls",
      "_model_module_version": "1.5.0",
      "_model_name": "DescriptionStyleModel",
      "_view_count": null,
      "_view_module": "@jupyter-widgets/base",
      "_view_module_version": "1.2.0",
      "_view_name": "StyleView",
      "description_width": ""
     }
    }
   }
  }
 },
 "nbformat": 4,
 "nbformat_minor": 4
}
